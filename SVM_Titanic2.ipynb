{
 "cells": [
  {
   "cell_type": "markdown",
   "metadata": {},
   "source": [
    "# Imports"
   ]
  },
  {
   "cell_type": "code",
   "execution_count": 1,
   "metadata": {},
   "outputs": [],
   "source": [
    "import seaborn as sns\n",
    "import matplotlib.pyplot as plt\n",
    "from sklearn.svm import SVC\n",
    "from sklearn.model_selection import train_test_split\n",
    "import pandas as pd\n",
    "import numpy as np\n",
    "from sklearn import metrics\n",
    "from sklearn.metrics import accuracy_score, recall_score, precision_score, f1_score\n",
    "from sklearn.preprocessing import StandardScaler"
   ]
  },
  {
   "cell_type": "code",
   "execution_count": 2,
   "metadata": {},
   "outputs": [],
   "source": [
    "# Load the passenger data\n",
    "passengers = pd.read_csv(\"C:/Users/rmart/Documents/IntroMachineLearning/passengers.csv\")"
   ]
  },
  {
   "cell_type": "markdown",
   "metadata": {},
   "source": [
    "# Use Sex, Age, FirstClass, Survived as Features and Split with Training and Validation"
   ]
  },
  {
   "cell_type": "code",
   "execution_count": 11,
   "metadata": {},
   "outputs": [],
   "source": [
    "# Update sex column to numerical\n",
    "passengers['Sex'] = np.where(passengers['Sex'] == 'female', 1, 0)\n",
    "# Fill the nan values in the age column\n",
    "passengers['Age'] = passengers['Age'].fillna(passengers['Age'].mean())\n",
    "# Create a first class column\n",
    "passengers['FirstClass'] = np.where(passengers['Pclass'] == 1, 1, 0)\n",
    "# Create a second class column\n",
    "passengers['SecondClass'] = np.where(passengers['Pclass'] == 1, 1, 0)"
   ]
  },
  {
   "cell_type": "code",
   "execution_count": null,
   "metadata": {},
   "outputs": [],
   "source": [
    "features = passengers[['Sex','Age','FirstClass','SecondClass']]\n",
    "survival = passengers[['Survived']]"
   ]
  },
  {
   "cell_type": "code",
   "execution_count": 63,
   "metadata": {},
   "outputs": [
    {
     "name": "stdout",
     "output_type": "stream",
     "text": [
      "0.8547486033519553\n"
     ]
    }
   ],
   "source": [
    "passengers = passengers.dropna(subset = ['Sex', 'Age', 'FirstClass', 'SecondClass', 'Survived'])\n",
    "#plt.scatter(passengers['Sex'], passengers['Age'], passengers['FirstClass'], passengers['SecondClass'], c=passengers['Survived'])\n",
    "\n",
    "training_set, validation_set = train_test_split(passengers, train_size = 0.8, test_size = 0.2, random_state = 1)\n",
    "\n",
    "\n",
    "\n",
    "classifier = SVC(kernel = \"rbf\",gamma=4,C=3)\n",
    "classifier.fit(passengers[['Sex', 'Age', 'FirstClass', 'SecondClass']], passengers['Survived'])\n",
    "score = classifier.score(validation_set[['Sex', 'Age', 'FirstClass', 'SecondClass']], validation_set['Survived'])\n",
    "print(score)"
   ]
  },
  {
   "cell_type": "markdown",
   "metadata": {},
   "source": [
    "# Use only Sex and Age"
   ]
  },
  {
   "cell_type": "code",
   "execution_count": 16,
   "metadata": {},
   "outputs": [
    {
     "name": "stdout",
     "output_type": "stream",
     "text": [
      "0.8044692737430168\n"
     ]
    },
    {
     "data": {
      "image/png": "[encoded data removed]",
      "text/plain": [
       "<Figure size 432x288 with 1 Axes>"
      ]
     },
     "metadata": {
      "needs_background": "light"
     },
     "output_type": "display_data"
    }
   ],
   "source": [
    "passengers = passengers.dropna(subset = ['Sex', 'Age', 'Survived'])\n",
    "plt.scatter(passengers['Sex'], passengers['Age'], c=passengers['Survived'])\n",
    "\n",
    "training_set, validation_set = train_test_split(passengers, train_size = 0.8, test_size = 0.2, random_state = 1)\n",
    "\n",
    "\n",
    "classifier = SVC(kernel = \"rbf\",gamma=4,C=3)\n",
    "classifier.fit(passengers[['Sex', 'Age']], passengers['Survived'])\n",
    "score = classifier.score(validation_set[['Sex', 'Age']], validation_set['Survived'])\n",
    "print(score)"
   ]
  },
  {
   "cell_type": "markdown",
   "metadata": {},
   "source": [
    "# Use Fare and Age and For Loop to Find Optimum Gamma and C"
   ]
  },
  {
   "cell_type": "code",
   "execution_count": 132,
   "metadata": {},
   "outputs": [
    {
     "name": "stdout",
     "output_type": "stream",
     "text": [
      "{'value': 0.9497206703910615, 'gamma': 6, 'C': 9}\n",
      "0.9497206703910615\n"
     ]
    }
   ],
   "source": [
    "largest = {'value':0, 'gamma':1, 'C':1}\n",
    "for gamma in range(1,10):\n",
    "    for C in range(1,10):\n",
    "\n",
    "        passengers = passengers.dropna(subset = ['Fare', 'Age', 'Survived'])\n",
    "        #plt.scatter(passengers['Fare'], passengers['Age'], c=passengers['Survived'])\n",
    "\n",
    "        training_set, validation_set = train_test_split(passengers, train_size = 0.8, test_size = 0.2, random_state = 1)\n",
    "\n",
    "\n",
    "        classifier = SVC(kernel = \"rbf\",gamma=gamma,C=C, probability=True)\n",
    "        classifier.fit(passengers[['Fare', 'Age']], passengers['Survived'])\n",
    "        score = classifier.score(validation_set[['Fare', 'Age']], validation_set['Survived'])\n",
    "        if (score > largest['value']):\n",
    "            largest['value'] = score\n",
    "            largest['gamma'] = gamma\n",
    "            largest['C'] = C\n",
    "        #print(gamma, C)\n",
    "\n",
    "print(largest)\n",
    "\n",
    "passengers = passengers.dropna(subset = ['Fare', 'Age', 'Survived'])\n",
    "\n",
    "training_set, validation_set = train_test_split(passengers, train_size = 0.8, test_size = 0.2, random_state = 1)\n",
    "\n",
    "\n",
    "classifier = SVC(kernel = \"rbf\",gamma=largest['gamma'],C=largest['C'], probability=True)\n",
    "classifier.fit(passengers[['Fare', 'Age']], passengers['Survived'])\n",
    "score = classifier.score(validation_set[['Fare', 'Age']], validation_set['Survived'])\n",
    "print(score)"
   ]
  },
  {
   "cell_type": "code",
   "execution_count": 133,
   "metadata": {},
   "outputs": [],
   "source": [
    "Jack = np.array([20.0, 20.0])\n",
    "Rose = np.array([1.0, 10.0])\n",
    "You = np.array([30.0, 31.0])"
   ]
  },
  {
   "cell_type": "code",
   "execution_count": 134,
   "metadata": {},
   "outputs": [],
   "source": [
    "# Combine passenger arrays\n",
    "sample_passengers = np.array([Jack, Rose, You])"
   ]
  },
  {
   "cell_type": "code",
   "execution_count": 135,
   "metadata": {},
   "outputs": [],
   "source": [
    "# Scale the sample passenger features\n",
    "# define standard scaler\n",
    "scaler = StandardScaler()\n",
    "# transform data\n",
    "sample_passengers = scaler.fit_transform(sample_passengers)"
   ]
  },
  {
   "cell_type": "code",
   "execution_count": 137,
   "metadata": {},
   "outputs": [],
   "source": [
    "# Make survival predictions!\n",
    "sample_passengers_predictions = classifier.predict(sample_passengers)"
   ]
  },
  {
   "cell_type": "code",
   "execution_count": 138,
   "metadata": {},
   "outputs": [
    {
     "data": {
      "text/plain": [
       "array([[0.57956128, 0.42043872],\n",
       "       [0.57956128, 0.42043872],\n",
       "       [0.57956128, 0.42043872]])"
      ]
     },
     "execution_count": 138,
     "metadata": {},
     "output_type": "execute_result"
    }
   ],
   "source": [
    "classifier.predict_proba(sample_passengers)"
   ]
  },
  {
   "cell_type": "code",
   "execution_count": 136,
   "metadata": {},
   "outputs": [
    {
     "data": {
      "text/plain": [
       "array([[ 0.2494233 , -0.0388661 ],\n",
       "       [-1.33025759, -1.20484922],\n",
       "       [ 1.08083429,  1.24371532]])"
      ]
     },
     "execution_count": 136,
     "metadata": {},
     "output_type": "execute_result"
    }
   ],
   "source": [
    "sample_passengers"
   ]
  },
  {
   "cell_type": "code",
   "execution_count": 84,
   "metadata": {},
   "outputs": [
    {
     "name": "stdout",
     "output_type": "stream",
     "text": [
      "[[-0.73769513 -0.5924806  -0.56568542 -0.56568542]\n",
      " [ 1.35557354  0.63878901  1.76776695  1.76776695]\n",
      " [ 1.35557354 -0.2846632  -0.56568542 -0.56568542]\n",
      " ...\n",
      " [ 1.35557354  0.         -0.56568542 -0.56568542]\n",
      " [-0.73769513 -0.2846632   1.76776695  1.76776695]\n",
      " [-0.73769513  0.17706291 -0.56568542 -0.56568542]]\n"
     ]
    }
   ],
   "source": [
    "classifier.predict_proba(sample_passengers)"
   ]
  },
  {
   "cell_type": "markdown",
   "metadata": {},
   "source": [
    "# Make Features and Target Differently (Similar to Log Reg Work), Standardize Features, Classify with Gamma 4 and C 3, Check Accuracy According to Various Metrics,Test 3 Made Up Folks' Chances"
   ]
  },
  {
   "cell_type": "code",
   "execution_count": 11,
   "metadata": {},
   "outputs": [],
   "source": [
    "# Update sex column to numerical\n",
    "passengers['Sex'] = np.where(passengers['Sex'] == 'female', 1, 0)\n",
    "# Fill the nan values in the age column\n",
    "passengers['Age'] = passengers['Age'].fillna(passengers['Age'].mean())\n",
    "# Create a first class column\n",
    "passengers['FirstClass'] = np.where(passengers['Pclass'] == 1, 1, 0)\n",
    "# Create a second class column\n",
    "passengers['SecondClass'] = np.where(passengers['Pclass'] == 1, 1, 0)\n",
    "\n",
    "passengers = passengers.dropna(subset = ['Sex', 'Age', 'FirstClass', 'SecondClass', 'Survived'])\n",
    "\n",
    "\n",
    "features = passengers[['Sex','Age','FirstClass','SecondClass']]\n",
    "survival = passengers[['Survived']]"
   ]
  },
  {
   "cell_type": "code",
   "execution_count": 48,
   "metadata": {},
   "outputs": [
    {
     "name": "stdout",
     "output_type": "stream",
     "text": [
      "{'value': 0.7598314606741573, 'gamma': 1, 'C': 5}\n"
     ]
    }
   ],
   "source": [
    "largest = {'value':0, 'gamma':1, 'C':1}\n",
    "for gamma in range(1,10):\n",
    "    for C in range(1,10):\n",
    "        features = passengers[['Sex','Age','FirstClass','SecondClass']]\n",
    "        survival = passengers[['Survived']]\n",
    "        # Perform train, test, split\n",
    "        x_train, x_test, y_train, y_test = train_test_split(features, \n",
    "                                                            survival, \n",
    "                                                            test_size=0.2, \n",
    "                                                            random_state=200)\n",
    "        # Scale the feature data so it has mean = 0 and standard deviation = 1\n",
    "        # define standard scaler\n",
    "        scaler = StandardScaler()\n",
    "        # transform data\n",
    "        scaled = scaler.fit_transform(features)\n",
    "        \n",
    "        classifier = SVC(kernel = \"rbf\",gamma=gamma,C=C,probability=True)\n",
    "        classifier.fit(x_train, np.ravel(y_train,order='C')) #see https://stackoverflow.com/questions/34165731/a-column-vector-y-was-passed-when-a-1d-array-was-expected\n",
    "        score = classifier.score(x_train, y_train)\n",
    "\n",
    "        if (score > largest['value']):\n",
    "            largest['value'] = score\n",
    "            largest['gamma'] = gamma\n",
    "            largest['C'] = C\n",
    "        #print(gamma, C)\n",
    "\n",
    "print(largest)"
   ]
  },
  {
   "cell_type": "code",
   "execution_count": 49,
   "metadata": {},
   "outputs": [
    {
     "name": "stdout",
     "output_type": "stream",
     "text": [
      "[[ 0.         -0.5924806  -0.56568542 -0.56568542]\n",
      " [ 0.          0.63878901  1.76776695  1.76776695]\n",
      " [ 0.         -0.2846632  -0.56568542 -0.56568542]\n",
      " ...\n",
      " [ 0.          0.         -0.56568542 -0.56568542]\n",
      " [ 0.         -0.2846632   1.76776695  1.76776695]\n",
      " [ 0.          0.17706291 -0.56568542 -0.56568542]]\n",
      "0.7598314606741573\n"
     ]
    }
   ],
   "source": [
    "features = passengers[['Sex','Age','FirstClass','SecondClass']]\n",
    "survival = passengers[['Survived']]\n",
    "# Perform train, test, split\n",
    "x_train, x_test, y_train, y_test = train_test_split(features, \n",
    "                                                    survival, \n",
    "                                                    test_size=0.2, \n",
    "                                                    random_state=200)\n",
    "# Scale the feature data so it has mean = 0 and standard deviation = 1\n",
    "# define standard scaler\n",
    "scaler = StandardScaler()\n",
    "# transform data\n",
    "scaled = scaler.fit_transform(features)\n",
    "print(scaled)\n",
    "\n",
    "classifier = SVC(kernel = \"rbf\",gamma=largest['gamma'],C=largest['C'], probability=True)\n",
    "classifier.fit(x_train, np.ravel(y_train,order='C'))\n",
    "score = classifier.score(x_train, y_train)\n",
    "print(score)"
   ]
  },
  {
   "cell_type": "code",
   "execution_count": 50,
   "metadata": {},
   "outputs": [],
   "source": [
    "predictions = classifier.predict(x_test)"
   ]
  },
  {
   "cell_type": "code",
   "execution_count": 51,
   "metadata": {},
   "outputs": [
    {
     "data": {
      "text/plain": [
       "Text(0, 0.5, 'Predictions')"
      ]
     },
     "execution_count": 51,
     "metadata": {},
     "output_type": "execute_result"
    },
    {
     "data": {
      "image/png": "[encoded data removed]",
      "text/plain": [
       "<Figure size 432x288 with 1 Axes>"
      ]
     },
     "metadata": {
      "needs_background": "light"
     },
     "output_type": "display_data"
    }
   ],
   "source": [
    "## The line / model\n",
    "plt.scatter(y_test, predictions)\n",
    "plt.xlabel('True Values')\n",
    "plt.ylabel('Predictions')"
   ]
  },
  {
   "cell_type": "code",
   "execution_count": 52,
   "metadata": {},
   "outputs": [
    {
     "name": "stdout",
     "output_type": "stream",
     "text": [
      "Accuracy Score is: 0.6201117318435754\n",
      "Recall Score is: 0.3466666666666667\n",
      "Precision Score is: 0.5777777777777777\n",
      "f1 Score is: 0.4333333333333333\n"
     ]
    }
   ],
   "source": [
    "print(\"Accuracy Score is:\", accuracy_score(y_test, predictions))\n",
    "\n",
    "print(\"Recall Score is:\", recall_score(y_test, predictions))\n",
    "\n",
    "print(\"Precision Score is:\", precision_score(y_test, predictions))\n",
    "\n",
    "print(\"f1 Score is:\", f1_score(y_test, predictions))"
   ]
  },
  {
   "cell_type": "code",
   "execution_count": 53,
   "metadata": {},
   "outputs": [],
   "source": [
    "cm = metrics.confusion_matrix(y_test, predictions)"
   ]
  },
  {
   "cell_type": "code",
   "execution_count": 54,
   "metadata": {},
   "outputs": [
    {
     "data": {
      "image/png": "[encoded data removed]",
      "text/plain": [
       "<Figure size 648x648 with 2 Axes>"
      ]
     },
     "metadata": {
      "needs_background": "light"
     },
     "output_type": "display_data"
    }
   ],
   "source": [
    "plt.figure(figsize=(9,9))\n",
    "sns.heatmap(cm, annot=True, fmt=\".3f\", linewidths=.5, square = True, cmap = 'Blues_r');\n",
    "plt.ylabel('Actual label');\n",
    "plt.xlabel('Predicted label');\n",
    "all_sample_title = 'Accuracy Score: {0}'.format(score)\n",
    "plt.title(all_sample_title, size = 15);"
   ]
  },
  {
   "cell_type": "code",
   "execution_count": 55,
   "metadata": {},
   "outputs": [],
   "source": [
    "# Sample passenger features\n",
    "Jack = np.array([0.0,20.0,0.0,0.0])\n",
    "Rose = np.array([1.0,17.0,1.0,0.0])\n",
    "You = np.array([0.0,31.0,0.0,0.0])\n",
    "sample_passengers = np.array([Jack, Rose, You])"
   ]
  },
  {
   "cell_type": "code",
   "execution_count": 56,
   "metadata": {},
   "outputs": [],
   "source": [
    "# Scale the sample passenger features\n",
    "# define standard scaler\n",
    "scaler = StandardScaler()\n",
    "# transform data\n",
    "sample_passengers = scaler.fit_transform(sample_passengers)\n",
    "# Make survival predictions!\n",
    "sample_passengers_predictions = classifier.predict(sample_passengers)"
   ]
  },
  {
   "cell_type": "code",
   "execution_count": 57,
   "metadata": {},
   "outputs": [
    {
     "data": {
      "text/plain": [
       "array([[0.54982652, 0.45017348],\n",
       "       [0.56399158, 0.43600842],\n",
       "       [0.54820493, 0.45179507]])"
      ]
     },
     "execution_count": 57,
     "metadata": {},
     "output_type": "execute_result"
    }
   ],
   "source": [
    "classifier.predict_proba(sample_passengers)"
   ]
  },
  {
   "cell_type": "markdown",
   "metadata": {},
   "source": [
    "# Fare and Age Again but with the Same Train Test Split as Above and Standardizing Features"
   ]
  },
  {
   "cell_type": "code",
   "execution_count": 58,
   "metadata": {},
   "outputs": [
    {
     "name": "stdout",
     "output_type": "stream",
     "text": [
      "{'value': 0.9353932584269663, 'gamma': 9, 'C': 9}\n",
      "0.9353932584269663\n"
     ]
    }
   ],
   "source": [
    "largest = {'value':0, 'gamma':1, 'C':1}\n",
    "for gamma in range(1,10):\n",
    "    for C in range(1,10):\n",
    "\n",
    "        features = passengers[['Fare', 'Age']]\n",
    "        survival = passengers[['Survived']]\n",
    "        # Perform train, test, split\n",
    "        x_train, x_test, y_train, y_test = train_test_split(features, \n",
    "                                                            survival, \n",
    "                                                            test_size=0.2, \n",
    "                                                            random_state=200)\n",
    "        # Scale the feature data so it has mean = 0 and standard deviation = 1\n",
    "        # define standard scaler\n",
    "        scaler = StandardScaler()\n",
    "        # transform data\n",
    "        scaled = scaler.fit_transform(features)\n",
    "        \n",
    "        classifier = SVC(kernel = \"rbf\",gamma=gamma,C=C,probability=True)\n",
    "        classifier.fit(x_train, np.ravel(y_train,order='C')) #see https://stackoverflow.com/questions/34165731/a-column-vector-y-was-passed-when-a-1d-array-was-expected\n",
    "        score = classifier.score(x_train, y_train)\n",
    "\n",
    "        if (score > largest['value']):\n",
    "            largest['value'] = score\n",
    "            largest['gamma'] = gamma\n",
    "            largest['C'] = C\n",
    "        #print(gamma, C)\n",
    "        #print(gamma, C)\n",
    "\n",
    "print(largest)\n",
    "\n",
    "passengers = passengers.dropna(subset = ['Fare', 'Age', 'Survived'])\n",
    "\n",
    "training_set, validation_set = train_test_split(passengers, train_size = 0.8, test_size = 0.2, random_state = 1)\n",
    "\n",
    "\n",
    "classifier = SVC(kernel = \"rbf\",gamma=largest['gamma'],C=largest['C'], probability=True)\n",
    "classifier.fit(x_train, np.ravel(y_train,order='C'))\n",
    "score = classifier.score(x_train, y_train)\n",
    "print(score)"
   ]
  },
  {
   "cell_type": "code",
   "execution_count": 59,
   "metadata": {},
   "outputs": [],
   "source": [
    "predictions = classifier.predict(x_test)"
   ]
  },
  {
   "cell_type": "code",
   "execution_count": 60,
   "metadata": {},
   "outputs": [
    {
     "name": "stdout",
     "output_type": "stream",
     "text": [
      "Accuracy Score is: 0.5698324022346368\n",
      "Recall Score is: 0.12\n",
      "Precision Score is: 0.45\n",
      "f1 Score is: 0.1894736842105263\n"
     ]
    }
   ],
   "source": [
    "print(\"Accuracy Score is:\", accuracy_score(y_test, predictions))\n",
    "\n",
    "print(\"Recall Score is:\", recall_score(y_test, predictions))\n",
    "\n",
    "print(\"Precision Score is:\", precision_score(y_test, predictions))\n",
    "\n",
    "print(\"f1 Score is:\", f1_score(y_test, predictions))"
   ]
  },
  {
   "cell_type": "code",
   "execution_count": 61,
   "metadata": {},
   "outputs": [],
   "source": [
    "cm = metrics.confusion_matrix(y_test, predictions)"
   ]
  },
  {
   "cell_type": "code",
   "execution_count": null,
   "metadata": {},
   "outputs": [],
   "source": [
    "plt.figure(figsize=(9,9))\n",
    "sns.heatmap(cm, annot=True, fmt=\".3f\", linewidths=.5, square = True, cmap = 'Blues_r');\n",
    "plt.ylabel('Actual label');\n",
    "plt.xlabel('Predicted label');\n",
    "all_sample_title = 'Accuracy Score: {0}'.format(score)\n",
    "plt.title(all_sample_title, size = 15);"
   ]
  },
  {
   "cell_type": "code",
   "execution_count": 63,
   "metadata": {},
   "outputs": [
    {
     "data": {
      "text/plain": [
       "array([[0.59440806, 0.40559194],\n",
       "       [0.59440806, 0.40559194],\n",
       "       [0.59440806, 0.40559194]])"
      ]
     },
     "execution_count": 63,
     "metadata": {},
     "output_type": "execute_result"
    }
   ],
   "source": [
    "Jack = np.array([20.0, 20.0])\n",
    "Rose = np.array([1.0, 10.0])\n",
    "You = np.array([30.0, 31.0])\n",
    "sample_passengers = np.array([Jack, Rose, You])\n",
    "# Scale the sample passenger features\n",
    "# define standard scaler\n",
    "scaler = StandardScaler()\n",
    "# transform data\n",
    "sample_passengers = scaler.fit_transform(sample_passengers)\n",
    "# Make survival predictions!\n",
    "sample_passengers_predictions = classifier.predict(sample_passengers)\n",
    "classifier.predict_proba(sample_passengers)"
   ]
  },
  {
   "cell_type": "code",
   "execution_count": null,
   "metadata": {},
   "outputs": [],
   "source": []
  }
 ],
 "metadata": {
  "kernelspec": {
   "display_name": "Python 3",
   "language": "python",
   "name": "python3"
  },
  "language_info": {
   "codemirror_mode": {
    "name": "ipython",
    "version": 3
   },
   "file_extension": ".py",
   "mimetype": "text/x-python",
   "name": "python",
   "nbconvert_exporter": "python",
   "pygments_lexer": "ipython3",
   "version": "3.8.3"
  }
 },
 "nbformat": 4,
 "nbformat_minor": 4
}
