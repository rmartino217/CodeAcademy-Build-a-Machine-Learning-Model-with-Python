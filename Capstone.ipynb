{
 "cells": [
  {
   "cell_type": "markdown",
   "metadata": {},
   "source": [
    "﻿In recent years, there has been a massive rise in the usage of dating apps to find love. Many of these apps use sophisticated data science techniques to recommend possible matches to users and to optimize the user experience. These apps give us access to a wealth of information that we've never had before about how different people experience romance.\n",
    "\n",
    "\n",
    "In this capstone, you will analyze some data from OKCupid, an app that focuses on using multiple choice and short answers to match users.\n",
    "\n",
    "\n",
    "The dataset provided has the following columns of multiple-choice data:\n",
    "\n",
    "- body_type\n",
    "- diet\n",
    "- drinks\n",
    "- drugs\n",
    "- education\n",
    "- ethnicity\n",
    "- height\n",
    "- income\n",
    "- job\n",
    "- offspring\n",
    "- orientation\n",
    "- pets\n",
    "- religion\n",
    "- sex\n",
    "- sign\n",
    "- smokes\n",
    "- speaks\n",
    "- status\n",
    "\n",
    "And a set of open short-answer responses to :\n",
    "\n",
    "- essay0 - My self summary\n",
    "- essay1 - What I’m doing with my life\n",
    "- essay2 - I’m really good at\n",
    "- essay3 - The first thing people usually notice about me\n",
    "- essay4 - Favorite books, movies, show, music, and food\n",
    "- essay5 - The six things I could never do without\n",
    "- essay6 - I spend a lot of time thinking about\n",
    "- essay7 - On a typical Friday night I am\n",
    "- essay8 - The most private thing I am willing to admit\n",
    "- essay9 - You should message me if…\n",
    "\n",
    "\n",
    "### Introduction\n",
    "\n",
    "\n",
    "In this capstone, you will create a presentation about your findings in this OkCupid dataset.\n",
    "\n",
    "\n",
    "The purpose of this capstone is to practice formulating questions and implementing Machine Learning techniques to answer those questions. We will give you guidance about the kinds of questions we asked, and the kinds of methods we used to answer those questions. But the questions you ask and how you answer them are entirely up to you. We're excited to see what kinds of different things you explore.\n",
    "Compared to the other projects you have completed this far, we are requiring few restrictions on how you structure your code. The project is far more open-ended, and you should use your creativity. In addition, much of the code you write for later parts of this project will depend on how you decided to implement earlier parts. **Therefore, we strongly encourage you to read through the entire assignment before writing any code.**\n",
    "________________\n"
   ]
  },
  {
   "cell_type": "markdown",
   "metadata": {},
   "source": [
    "# Imports"
   ]
  },
  {
   "cell_type": "code",
   "execution_count": 94,
   "metadata": {},
   "outputs": [],
   "source": [
    "import pandas as pd\n",
    "import numpy as np\n",
    "from matplotlib import pyplot as plt\n",
    "from matplotlib import ticker as mtick\n",
    "import seaborn as sns\n",
    "from sklearn.svm import SVC\n",
    "from sklearn.model_selection import train_test_split\n",
    "from sklearn import metrics\n",
    "from sklearn.metrics import accuracy_score, recall_score, precision_score, f1_score\n",
    "from sklearn.preprocessing import MinMaxScaler\n",
    "\n",
    "#K Nearest Neighbors\n",
    "from sklearn.neighbors import KNeighborsClassifier\n",
    "#Logistic Regression\n",
    "from sklearn.linear_model import LogisticRegression\n",
    "#Linear Regression\n",
    "from sklearn.linear_model import LinearRegression"
   ]
  },
  {
   "cell_type": "markdown",
   "metadata": {},
   "source": [
    "\n",
    "### Load in the DataFrame\n",
    "\n",
    "\n",
    "The data is stored in **profiles.csv**. We can start to work with it in **dating.py** by using Pandas, which we have imported for you with the line:\n",
    "\n",
    "\n",
    "```\n",
    "import pandas as pd\n",
    "```\n",
    "\n",
    "\n",
    "and then loading the csv into a DataFrame: \n",
    "\n",
    "\n",
    "```\n",
    "df = pd.read_csv(\"profiles.csv\")\n",
    "```\n"
   ]
  },
  {
   "cell_type": "code",
   "execution_count": 2,
   "metadata": {},
   "outputs": [],
   "source": [
    "df = pd.read_csv(\"profiles.csv\")"
   ]
  },
  {
   "cell_type": "code",
   "execution_count": 3,
   "metadata": {},
   "outputs": [
    {
     "data": {
      "text/html": [
       "<div>\n",
       "<style scoped>\n",
       "    .dataframe tbody tr th:only-of-type {\n",
       "        vertical-align: middle;\n",
       "    }\n",
       "\n",
       "    .dataframe tbody tr th {\n",
       "        vertical-align: top;\n",
       "    }\n",
       "\n",
       "    .dataframe thead th {\n",
       "        text-align: right;\n",
       "    }\n",
       "</style>\n",
       "<table border=\"1\" class=\"dataframe\">\n",
       "  <thead>\n",
       "    <tr style=\"text-align: right;\">\n",
       "      <th></th>\n",
       "      <th>age</th>\n",
       "      <th>body_type</th>\n",
       "      <th>diet</th>\n",
       "      <th>drinks</th>\n",
       "      <th>drugs</th>\n",
       "      <th>education</th>\n",
       "      <th>essay0</th>\n",
       "      <th>essay1</th>\n",
       "      <th>essay2</th>\n",
       "      <th>essay3</th>\n",
       "      <th>...</th>\n",
       "      <th>location</th>\n",
       "      <th>offspring</th>\n",
       "      <th>orientation</th>\n",
       "      <th>pets</th>\n",
       "      <th>religion</th>\n",
       "      <th>sex</th>\n",
       "      <th>sign</th>\n",
       "      <th>smokes</th>\n",
       "      <th>speaks</th>\n",
       "      <th>status</th>\n",
       "    </tr>\n",
       "  </thead>\n",
       "  <tbody>\n",
       "    <tr>\n",
       "      <th>0</th>\n",
       "      <td>22</td>\n",
       "      <td>a little extra</td>\n",
       "      <td>strictly anything</td>\n",
       "      <td>socially</td>\n",
       "      <td>never</td>\n",
       "      <td>working on college/university</td>\n",
       "      <td>about me:&lt;br /&gt;\\n&lt;br /&gt;\\ni would love to think...</td>\n",
       "      <td>currently working as an international agent fo...</td>\n",
       "      <td>making people laugh.&lt;br /&gt;\\nranting about a go...</td>\n",
       "      <td>the way i look. i am a six foot half asian, ha...</td>\n",
       "      <td>...</td>\n",
       "      <td>south san francisco, california</td>\n",
       "      <td>doesn&amp;rsquo;t have kids, but might want them</td>\n",
       "      <td>straight</td>\n",
       "      <td>likes dogs and likes cats</td>\n",
       "      <td>agnosticism and very serious about it</td>\n",
       "      <td>m</td>\n",
       "      <td>gemini</td>\n",
       "      <td>sometimes</td>\n",
       "      <td>english</td>\n",
       "      <td>single</td>\n",
       "    </tr>\n",
       "    <tr>\n",
       "      <th>1</th>\n",
       "      <td>35</td>\n",
       "      <td>average</td>\n",
       "      <td>mostly other</td>\n",
       "      <td>often</td>\n",
       "      <td>sometimes</td>\n",
       "      <td>working on space camp</td>\n",
       "      <td>i am a chef: this is what that means.&lt;br /&gt;\\n1...</td>\n",
       "      <td>dedicating everyday to being an unbelievable b...</td>\n",
       "      <td>being silly. having ridiculous amonts of fun w...</td>\n",
       "      <td>NaN</td>\n",
       "      <td>...</td>\n",
       "      <td>oakland, california</td>\n",
       "      <td>doesn&amp;rsquo;t have kids, but might want them</td>\n",
       "      <td>straight</td>\n",
       "      <td>likes dogs and likes cats</td>\n",
       "      <td>agnosticism but not too serious about it</td>\n",
       "      <td>m</td>\n",
       "      <td>cancer</td>\n",
       "      <td>no</td>\n",
       "      <td>english (fluently), spanish (poorly), french (...</td>\n",
       "      <td>single</td>\n",
       "    </tr>\n",
       "    <tr>\n",
       "      <th>2</th>\n",
       "      <td>38</td>\n",
       "      <td>thin</td>\n",
       "      <td>anything</td>\n",
       "      <td>socially</td>\n",
       "      <td>NaN</td>\n",
       "      <td>graduated from masters program</td>\n",
       "      <td>i'm not ashamed of much, but writing public te...</td>\n",
       "      <td>i make nerdy software for musicians, artists, ...</td>\n",
       "      <td>improvising in different contexts. alternating...</td>\n",
       "      <td>my large jaw and large glasses are the physica...</td>\n",
       "      <td>...</td>\n",
       "      <td>san francisco, california</td>\n",
       "      <td>NaN</td>\n",
       "      <td>straight</td>\n",
       "      <td>has cats</td>\n",
       "      <td>NaN</td>\n",
       "      <td>m</td>\n",
       "      <td>pisces but it doesn&amp;rsquo;t matter</td>\n",
       "      <td>no</td>\n",
       "      <td>english, french, c++</td>\n",
       "      <td>available</td>\n",
       "    </tr>\n",
       "    <tr>\n",
       "      <th>3</th>\n",
       "      <td>23</td>\n",
       "      <td>thin</td>\n",
       "      <td>vegetarian</td>\n",
       "      <td>socially</td>\n",
       "      <td>NaN</td>\n",
       "      <td>working on college/university</td>\n",
       "      <td>i work in a library and go to school. . .</td>\n",
       "      <td>reading things written by old dead people</td>\n",
       "      <td>playing synthesizers and organizing books acco...</td>\n",
       "      <td>socially awkward but i do my best</td>\n",
       "      <td>...</td>\n",
       "      <td>berkeley, california</td>\n",
       "      <td>doesn&amp;rsquo;t want kids</td>\n",
       "      <td>straight</td>\n",
       "      <td>likes cats</td>\n",
       "      <td>NaN</td>\n",
       "      <td>m</td>\n",
       "      <td>pisces</td>\n",
       "      <td>no</td>\n",
       "      <td>english, german (poorly)</td>\n",
       "      <td>single</td>\n",
       "    </tr>\n",
       "    <tr>\n",
       "      <th>4</th>\n",
       "      <td>29</td>\n",
       "      <td>athletic</td>\n",
       "      <td>NaN</td>\n",
       "      <td>socially</td>\n",
       "      <td>never</td>\n",
       "      <td>graduated from college/university</td>\n",
       "      <td>hey how's it going? currently vague on the pro...</td>\n",
       "      <td>work work work work + play</td>\n",
       "      <td>creating imagery to look at:&lt;br /&gt;\\nhttp://bag...</td>\n",
       "      <td>i smile a lot and my inquisitive nature</td>\n",
       "      <td>...</td>\n",
       "      <td>san francisco, california</td>\n",
       "      <td>NaN</td>\n",
       "      <td>straight</td>\n",
       "      <td>likes dogs and likes cats</td>\n",
       "      <td>NaN</td>\n",
       "      <td>m</td>\n",
       "      <td>aquarius</td>\n",
       "      <td>no</td>\n",
       "      <td>english</td>\n",
       "      <td>single</td>\n",
       "    </tr>\n",
       "    <tr>\n",
       "      <th>...</th>\n",
       "      <td>...</td>\n",
       "      <td>...</td>\n",
       "      <td>...</td>\n",
       "      <td>...</td>\n",
       "      <td>...</td>\n",
       "      <td>...</td>\n",
       "      <td>...</td>\n",
       "      <td>...</td>\n",
       "      <td>...</td>\n",
       "      <td>...</td>\n",
       "      <td>...</td>\n",
       "      <td>...</td>\n",
       "      <td>...</td>\n",
       "      <td>...</td>\n",
       "      <td>...</td>\n",
       "      <td>...</td>\n",
       "      <td>...</td>\n",
       "      <td>...</td>\n",
       "      <td>...</td>\n",
       "      <td>...</td>\n",
       "      <td>...</td>\n",
       "    </tr>\n",
       "    <tr>\n",
       "      <th>59941</th>\n",
       "      <td>59</td>\n",
       "      <td>NaN</td>\n",
       "      <td>NaN</td>\n",
       "      <td>socially</td>\n",
       "      <td>never</td>\n",
       "      <td>graduated from college/university</td>\n",
       "      <td>vibrant, expressive, caring optimist. i love b...</td>\n",
       "      <td>the happiest times have been when life came to...</td>\n",
       "      <td>i make an outstanding osso bucco. i am also ve...</td>\n",
       "      <td>i am told that people notice my smile, eyes an...</td>\n",
       "      <td>...</td>\n",
       "      <td>oakland, california</td>\n",
       "      <td>has kids</td>\n",
       "      <td>straight</td>\n",
       "      <td>has dogs</td>\n",
       "      <td>catholicism but not too serious about it</td>\n",
       "      <td>f</td>\n",
       "      <td>cancer and it&amp;rsquo;s fun to think about</td>\n",
       "      <td>no</td>\n",
       "      <td>english</td>\n",
       "      <td>single</td>\n",
       "    </tr>\n",
       "    <tr>\n",
       "      <th>59942</th>\n",
       "      <td>24</td>\n",
       "      <td>fit</td>\n",
       "      <td>mostly anything</td>\n",
       "      <td>often</td>\n",
       "      <td>sometimes</td>\n",
       "      <td>working on college/university</td>\n",
       "      <td>i'm nick.&lt;br /&gt;\\ni never know what to write ab...</td>\n",
       "      <td>currently finishing school for film production...</td>\n",
       "      <td>&lt;a class=\"ilink\" href=\"/interests?i=filmmaking...</td>\n",
       "      <td>dude, i don't know.</td>\n",
       "      <td>...</td>\n",
       "      <td>san francisco, california</td>\n",
       "      <td>doesn&amp;rsquo;t have kids</td>\n",
       "      <td>straight</td>\n",
       "      <td>likes dogs and likes cats</td>\n",
       "      <td>agnosticism</td>\n",
       "      <td>m</td>\n",
       "      <td>leo but it doesn&amp;rsquo;t matter</td>\n",
       "      <td>no</td>\n",
       "      <td>english (fluently)</td>\n",
       "      <td>single</td>\n",
       "    </tr>\n",
       "    <tr>\n",
       "      <th>59943</th>\n",
       "      <td>42</td>\n",
       "      <td>average</td>\n",
       "      <td>mostly anything</td>\n",
       "      <td>not at all</td>\n",
       "      <td>never</td>\n",
       "      <td>graduated from masters program</td>\n",
       "      <td>hello! i enjoy traveling, watching movies, and...</td>\n",
       "      <td>i'm a civil engineer, who enjoys helping the c...</td>\n",
       "      <td>- looking at things objectively&lt;br /&gt;\\n- getti...</td>\n",
       "      <td>i'm quiet until i get used to the environment ...</td>\n",
       "      <td>...</td>\n",
       "      <td>south san francisco, california</td>\n",
       "      <td>doesn&amp;rsquo;t have kids</td>\n",
       "      <td>straight</td>\n",
       "      <td>NaN</td>\n",
       "      <td>christianity but not too serious about it</td>\n",
       "      <td>m</td>\n",
       "      <td>sagittarius but it doesn&amp;rsquo;t matter</td>\n",
       "      <td>no</td>\n",
       "      <td>english (fluently)</td>\n",
       "      <td>single</td>\n",
       "    </tr>\n",
       "    <tr>\n",
       "      <th>59944</th>\n",
       "      <td>27</td>\n",
       "      <td>athletic</td>\n",
       "      <td>mostly anything</td>\n",
       "      <td>socially</td>\n",
       "      <td>often</td>\n",
       "      <td>working on college/university</td>\n",
       "      <td>\"all i have in this world are my balls and my ...</td>\n",
       "      <td>following my dreams...&lt;br /&gt;\\n\"you got a dream...</td>\n",
       "      <td>listening</td>\n",
       "      <td>it used to be the hair until i mowed it off bu...</td>\n",
       "      <td>...</td>\n",
       "      <td>san francisco, california</td>\n",
       "      <td>doesn&amp;rsquo;t have kids, but wants them</td>\n",
       "      <td>straight</td>\n",
       "      <td>likes dogs and likes cats</td>\n",
       "      <td>agnosticism but not too serious about it</td>\n",
       "      <td>m</td>\n",
       "      <td>leo and it&amp;rsquo;s fun to think about</td>\n",
       "      <td>trying to quit</td>\n",
       "      <td>english (fluently), spanish (poorly), chinese ...</td>\n",
       "      <td>single</td>\n",
       "    </tr>\n",
       "    <tr>\n",
       "      <th>59945</th>\n",
       "      <td>39</td>\n",
       "      <td>average</td>\n",
       "      <td>NaN</td>\n",
       "      <td>socially</td>\n",
       "      <td>NaN</td>\n",
       "      <td>graduated from masters program</td>\n",
       "      <td>is it odd that having a little \"enemy\" status ...</td>\n",
       "      <td>i work with elderly people (psychotherapy and ...</td>\n",
       "      <td>i'm a great bullshitter. i don't know what it ...</td>\n",
       "      <td>either that i am funny/sarcastic, or that i am...</td>\n",
       "      <td>...</td>\n",
       "      <td>san francisco, california</td>\n",
       "      <td>NaN</td>\n",
       "      <td>gay</td>\n",
       "      <td>likes dogs and likes cats</td>\n",
       "      <td>catholicism and laughing about it</td>\n",
       "      <td>m</td>\n",
       "      <td>gemini and it&amp;rsquo;s fun to think about</td>\n",
       "      <td>sometimes</td>\n",
       "      <td>english</td>\n",
       "      <td>single</td>\n",
       "    </tr>\n",
       "  </tbody>\n",
       "</table>\n",
       "<p>59946 rows × 31 columns</p>\n",
       "</div>"
      ],
      "text/plain": [
       "       age       body_type               diet      drinks      drugs  \\\n",
       "0       22  a little extra  strictly anything    socially      never   \n",
       "1       35         average       mostly other       often  sometimes   \n",
       "2       38            thin           anything    socially        NaN   \n",
       "3       23            thin         vegetarian    socially        NaN   \n",
       "4       29        athletic                NaN    socially      never   \n",
       "...    ...             ...                ...         ...        ...   \n",
       "59941   59             NaN                NaN    socially      never   \n",
       "59942   24             fit    mostly anything       often  sometimes   \n",
       "59943   42         average    mostly anything  not at all      never   \n",
       "59944   27        athletic    mostly anything    socially      often   \n",
       "59945   39         average                NaN    socially        NaN   \n",
       "\n",
       "                               education  \\\n",
       "0          working on college/university   \n",
       "1                  working on space camp   \n",
       "2         graduated from masters program   \n",
       "3          working on college/university   \n",
       "4      graduated from college/university   \n",
       "...                                  ...   \n",
       "59941  graduated from college/university   \n",
       "59942      working on college/university   \n",
       "59943     graduated from masters program   \n",
       "59944      working on college/university   \n",
       "59945     graduated from masters program   \n",
       "\n",
       "                                                  essay0  \\\n",
       "0      about me:<br />\\n<br />\\ni would love to think...   \n",
       "1      i am a chef: this is what that means.<br />\\n1...   \n",
       "2      i'm not ashamed of much, but writing public te...   \n",
       "3              i work in a library and go to school. . .   \n",
       "4      hey how's it going? currently vague on the pro...   \n",
       "...                                                  ...   \n",
       "59941  vibrant, expressive, caring optimist. i love b...   \n",
       "59942  i'm nick.<br />\\ni never know what to write ab...   \n",
       "59943  hello! i enjoy traveling, watching movies, and...   \n",
       "59944  \"all i have in this world are my balls and my ...   \n",
       "59945  is it odd that having a little \"enemy\" status ...   \n",
       "\n",
       "                                                  essay1  \\\n",
       "0      currently working as an international agent fo...   \n",
       "1      dedicating everyday to being an unbelievable b...   \n",
       "2      i make nerdy software for musicians, artists, ...   \n",
       "3              reading things written by old dead people   \n",
       "4                             work work work work + play   \n",
       "...                                                  ...   \n",
       "59941  the happiest times have been when life came to...   \n",
       "59942  currently finishing school for film production...   \n",
       "59943  i'm a civil engineer, who enjoys helping the c...   \n",
       "59944  following my dreams...<br />\\n\"you got a dream...   \n",
       "59945  i work with elderly people (psychotherapy and ...   \n",
       "\n",
       "                                                  essay2  \\\n",
       "0      making people laugh.<br />\\nranting about a go...   \n",
       "1      being silly. having ridiculous amonts of fun w...   \n",
       "2      improvising in different contexts. alternating...   \n",
       "3      playing synthesizers and organizing books acco...   \n",
       "4      creating imagery to look at:<br />\\nhttp://bag...   \n",
       "...                                                  ...   \n",
       "59941  i make an outstanding osso bucco. i am also ve...   \n",
       "59942  <a class=\"ilink\" href=\"/interests?i=filmmaking...   \n",
       "59943  - looking at things objectively<br />\\n- getti...   \n",
       "59944                                          listening   \n",
       "59945  i'm a great bullshitter. i don't know what it ...   \n",
       "\n",
       "                                                  essay3  ...  \\\n",
       "0      the way i look. i am a six foot half asian, ha...  ...   \n",
       "1                                                    NaN  ...   \n",
       "2      my large jaw and large glasses are the physica...  ...   \n",
       "3                      socially awkward but i do my best  ...   \n",
       "4                i smile a lot and my inquisitive nature  ...   \n",
       "...                                                  ...  ...   \n",
       "59941  i am told that people notice my smile, eyes an...  ...   \n",
       "59942                                dude, i don't know.  ...   \n",
       "59943  i'm quiet until i get used to the environment ...  ...   \n",
       "59944  it used to be the hair until i mowed it off bu...  ...   \n",
       "59945  either that i am funny/sarcastic, or that i am...  ...   \n",
       "\n",
       "                              location  \\\n",
       "0      south san francisco, california   \n",
       "1                  oakland, california   \n",
       "2            san francisco, california   \n",
       "3                 berkeley, california   \n",
       "4            san francisco, california   \n",
       "...                                ...   \n",
       "59941              oakland, california   \n",
       "59942        san francisco, california   \n",
       "59943  south san francisco, california   \n",
       "59944        san francisco, california   \n",
       "59945        san francisco, california   \n",
       "\n",
       "                                          offspring orientation  \\\n",
       "0      doesn&rsquo;t have kids, but might want them    straight   \n",
       "1      doesn&rsquo;t have kids, but might want them    straight   \n",
       "2                                               NaN    straight   \n",
       "3                           doesn&rsquo;t want kids    straight   \n",
       "4                                               NaN    straight   \n",
       "...                                             ...         ...   \n",
       "59941                                      has kids    straight   \n",
       "59942                       doesn&rsquo;t have kids    straight   \n",
       "59943                       doesn&rsquo;t have kids    straight   \n",
       "59944       doesn&rsquo;t have kids, but wants them    straight   \n",
       "59945                                           NaN         gay   \n",
       "\n",
       "                            pets                                   religion  \\\n",
       "0      likes dogs and likes cats      agnosticism and very serious about it   \n",
       "1      likes dogs and likes cats   agnosticism but not too serious about it   \n",
       "2                       has cats                                        NaN   \n",
       "3                     likes cats                                        NaN   \n",
       "4      likes dogs and likes cats                                        NaN   \n",
       "...                          ...                                        ...   \n",
       "59941                   has dogs   catholicism but not too serious about it   \n",
       "59942  likes dogs and likes cats                                agnosticism   \n",
       "59943                        NaN  christianity but not too serious about it   \n",
       "59944  likes dogs and likes cats   agnosticism but not too serious about it   \n",
       "59945  likes dogs and likes cats          catholicism and laughing about it   \n",
       "\n",
       "      sex                                      sign          smokes  \\\n",
       "0       m                                    gemini       sometimes   \n",
       "1       m                                    cancer              no   \n",
       "2       m        pisces but it doesn&rsquo;t matter              no   \n",
       "3       m                                    pisces              no   \n",
       "4       m                                  aquarius              no   \n",
       "...    ..                                       ...             ...   \n",
       "59941   f  cancer and it&rsquo;s fun to think about              no   \n",
       "59942   m           leo but it doesn&rsquo;t matter              no   \n",
       "59943   m   sagittarius but it doesn&rsquo;t matter              no   \n",
       "59944   m     leo and it&rsquo;s fun to think about  trying to quit   \n",
       "59945   m  gemini and it&rsquo;s fun to think about       sometimes   \n",
       "\n",
       "                                                  speaks     status  \n",
       "0                                                english     single  \n",
       "1      english (fluently), spanish (poorly), french (...     single  \n",
       "2                                   english, french, c++  available  \n",
       "3                               english, german (poorly)     single  \n",
       "4                                                english     single  \n",
       "...                                                  ...        ...  \n",
       "59941                                            english     single  \n",
       "59942                                 english (fluently)     single  \n",
       "59943                                 english (fluently)     single  \n",
       "59944  english (fluently), spanish (poorly), chinese ...     single  \n",
       "59945                                            english     single  \n",
       "\n",
       "[59946 rows x 31 columns]"
      ]
     },
     "execution_count": 3,
     "metadata": {},
     "output_type": "execute_result"
    }
   ],
   "source": [
    "df"
   ]
  },
  {
   "cell_type": "markdown",
   "metadata": {},
   "source": [
    "### Explore the Data\n",
    "\n",
    "\n",
    "Let's make sure we understand what these columns represent!\n",
    "\n",
    "Pick some columns and call `.head()` on them to see the first five rows of data. For example, we were curious about `job`, so we called:\n",
    "\n",
    "\n",
    "```\n",
    "df.job.head()\n",
    "```\n",
    "\n",
    "\n",
    "You can also call `value_counts()` on a column to figure out what possible responses there are, and how many of each response there was.\n",
    "\n",
    "\n"
   ]
  },
  {
   "cell_type": "code",
   "execution_count": 4,
   "metadata": {},
   "outputs": [
    {
     "data": {
      "text/plain": [
       "0                 transportation\n",
       "1           hospitality / travel\n",
       "2                            NaN\n",
       "3                        student\n",
       "4    artistic / musical / writer\n",
       "Name: job, dtype: object"
      ]
     },
     "execution_count": 4,
     "metadata": {},
     "output_type": "execute_result"
    }
   ],
   "source": [
    "df['job'].head()"
   ]
  },
  {
   "cell_type": "code",
   "execution_count": 5,
   "metadata": {},
   "outputs": [
    {
     "data": {
      "text/plain": [
       "average           14652\n",
       "fit               12711\n",
       "athletic          11819\n",
       "thin               4711\n",
       "curvy              3924\n",
       "a little extra     2629\n",
       "skinny             1777\n",
       "full figured       1009\n",
       "overweight          444\n",
       "jacked              421\n",
       "used up             355\n",
       "rather not say      198\n",
       "Name: body_type, dtype: int64"
      ]
     },
     "execution_count": 5,
     "metadata": {},
     "output_type": "execute_result"
    }
   ],
   "source": [
    "df['body_type'].value_counts()"
   ]
  },
  {
   "cell_type": "code",
   "execution_count": 6,
   "metadata": {},
   "outputs": [
    {
     "data": {
      "text/plain": [
       "san francisco, california      31064\n",
       "oakland, california             7214\n",
       "berkeley, california            4212\n",
       "san mateo, california           1331\n",
       "palo alto, california           1064\n",
       "                               ...  \n",
       "seattle, washington                1\n",
       "waterford, california              1\n",
       "milwaukee, wisconsin               1\n",
       "miami, florida                     1\n",
       "san luis obispo, california        1\n",
       "Name: location, Length: 199, dtype: int64"
      ]
     },
     "execution_count": 6,
     "metadata": {},
     "output_type": "execute_result"
    }
   ],
   "source": [
    "df['location'].value_counts()"
   ]
  },
  {
   "cell_type": "markdown",
   "metadata": {},
   "source": [
    "### Visualize some of the Data\n",
    "\n",
    "\n",
    "We can start to build graphs from the data by first importing Matplotlib:\n",
    "\n",
    "\n",
    "```\n",
    "from matplotlib import pyplot as plt\n",
    "```\n",
    "\n",
    "\n",
    "and then making some plots!\n",
    "\n",
    "For example, we were curious about the distribution of ages on the site, so we made a histogram of the `age` column:\n",
    "\n",
    "\n",
    "```\n",
    "plt.hist(df.age, bins=20)\n",
    "plt.xlabel(\"Age\")\n",
    "plt.ylabel(\"Frequency\")\n",
    "plt.xlim(16, 80)\n",
    "plt.show()\n",
    "```\n",
    "\n",
    "\n",
    "Try this code in your own file and take a look at the histogram it produces!\n",
    "\n",
    "\n"
   ]
  },
  {
   "cell_type": "code",
   "execution_count": 7,
   "metadata": {},
   "outputs": [
    {
     "data": {
      "image/png": "[encoded data removed]",
      "text/plain": [
       "<Figure size 432x288 with 1 Axes>"
      ]
     },
     "metadata": {
      "needs_background": "light"
     },
     "output_type": "display_data"
    }
   ],
   "source": [
    "plt.hist(df['age'], bins=20)\n",
    "plt.xlabel('Age')\n",
    "plt.ylabel('Frequency')\n",
    "plt.xlim(16, 80)\n",
    "plt.title('Frequency of Ages of Participants')\n",
    "plt.show()"
   ]
  },
  {
   "cell_type": "code",
   "execution_count": 8,
   "metadata": {},
   "outputs": [
    {
     "data": {
      "text/plain": [
       "<matplotlib.axes._subplots.AxesSubplot at 0x14c1a36fee0>"
      ]
     },
     "execution_count": 8,
     "metadata": {},
     "output_type": "execute_result"
    },
    {
     "data": {
      "image/png": "[encoded data removed]",
      "text/plain": [
       "<Figure size 432x288 with 1 Axes>"
      ]
     },
     "metadata": {
      "needs_background": "light"
     },
     "output_type": "display_data"
    }
   ],
   "source": [
    "df[['age']].plot(kind=\"hist\",bins=[0,20,40,60,80,100],rwidth=0.8, title='Age Groups of People')"
   ]
  },
  {
   "cell_type": "code",
   "execution_count": 9,
   "metadata": {},
   "outputs": [
    {
     "name": "stdout",
     "output_type": "stream",
     "text": [
      "graduated from college/university    23959\n",
      "graduated from masters program        8961\n",
      "working on college/university         5712\n",
      "working on masters program            1683\n",
      "graduated from two-year college       1531\n",
      "graduated from high school            1428\n",
      "graduated from ph.d program           1272\n",
      "graduated from law school             1122\n",
      "working on two-year college           1074\n",
      "dropped out of college/university      995\n",
      "working on ph.d program                983\n",
      "college/university                     801\n",
      "graduated from space camp              657\n",
      "dropped out of space camp              523\n",
      "graduated from med school              446\n",
      "working on space camp                  445\n",
      "working on law school                  269\n",
      "two-year college                       222\n",
      "working on med school                  212\n",
      "dropped out of two-year college        191\n",
      "dropped out of masters program         140\n",
      "masters program                        136\n",
      "dropped out of ph.d program            127\n",
      "dropped out of high school             102\n",
      "high school                             96\n",
      "working on high school                  87\n",
      "space camp                              58\n",
      "ph.d program                            26\n",
      "law school                              19\n",
      "dropped out of law school               18\n",
      "dropped out of med school               12\n",
      "med school                              11\n",
      "Name: education, dtype: int64\n"
     ]
    },
    {
     "data": {
      "text/html": [
       "<div>\n",
       "<style scoped>\n",
       "    .dataframe tbody tr th:only-of-type {\n",
       "        vertical-align: middle;\n",
       "    }\n",
       "\n",
       "    .dataframe tbody tr th {\n",
       "        vertical-align: top;\n",
       "    }\n",
       "\n",
       "    .dataframe thead th {\n",
       "        text-align: right;\n",
       "    }\n",
       "</style>\n",
       "<table border=\"1\" class=\"dataframe\">\n",
       "  <thead>\n",
       "    <tr style=\"text-align: right;\">\n",
       "      <th></th>\n",
       "      <th></th>\n",
       "      <th>age</th>\n",
       "      <th>body_type</th>\n",
       "      <th>diet</th>\n",
       "      <th>drinks</th>\n",
       "      <th>essay0</th>\n",
       "      <th>essay1</th>\n",
       "      <th>essay2</th>\n",
       "      <th>essay3</th>\n",
       "      <th>essay4</th>\n",
       "      <th>essay5</th>\n",
       "      <th>...</th>\n",
       "      <th>location</th>\n",
       "      <th>offspring</th>\n",
       "      <th>orientation</th>\n",
       "      <th>pets</th>\n",
       "      <th>religion</th>\n",
       "      <th>sex</th>\n",
       "      <th>sign</th>\n",
       "      <th>smokes</th>\n",
       "      <th>speaks</th>\n",
       "      <th>status</th>\n",
       "    </tr>\n",
       "    <tr>\n",
       "      <th>education</th>\n",
       "      <th>drugs</th>\n",
       "      <th></th>\n",
       "      <th></th>\n",
       "      <th></th>\n",
       "      <th></th>\n",
       "      <th></th>\n",
       "      <th></th>\n",
       "      <th></th>\n",
       "      <th></th>\n",
       "      <th></th>\n",
       "      <th></th>\n",
       "      <th></th>\n",
       "      <th></th>\n",
       "      <th></th>\n",
       "      <th></th>\n",
       "      <th></th>\n",
       "      <th></th>\n",
       "      <th></th>\n",
       "      <th></th>\n",
       "      <th></th>\n",
       "      <th></th>\n",
       "      <th></th>\n",
       "    </tr>\n",
       "  </thead>\n",
       "  <tbody>\n",
       "    <tr>\n",
       "      <th rowspan=\"3\" valign=\"top\">college/university</th>\n",
       "      <th>never</th>\n",
       "      <td>523</td>\n",
       "      <td>491</td>\n",
       "      <td>278</td>\n",
       "      <td>502</td>\n",
       "      <td>455</td>\n",
       "      <td>411</td>\n",
       "      <td>385</td>\n",
       "      <td>368</td>\n",
       "      <td>358</td>\n",
       "      <td>372</td>\n",
       "      <td>...</td>\n",
       "      <td>523</td>\n",
       "      <td>223</td>\n",
       "      <td>523</td>\n",
       "      <td>287</td>\n",
       "      <td>294</td>\n",
       "      <td>523</td>\n",
       "      <td>404</td>\n",
       "      <td>466</td>\n",
       "      <td>523</td>\n",
       "      <td>523</td>\n",
       "    </tr>\n",
       "    <tr>\n",
       "      <th>often</th>\n",
       "      <td>2</td>\n",
       "      <td>2</td>\n",
       "      <td>2</td>\n",
       "      <td>2</td>\n",
       "      <td>2</td>\n",
       "      <td>2</td>\n",
       "      <td>2</td>\n",
       "      <td>2</td>\n",
       "      <td>2</td>\n",
       "      <td>2</td>\n",
       "      <td>...</td>\n",
       "      <td>2</td>\n",
       "      <td>1</td>\n",
       "      <td>2</td>\n",
       "      <td>1</td>\n",
       "      <td>1</td>\n",
       "      <td>2</td>\n",
       "      <td>2</td>\n",
       "      <td>2</td>\n",
       "      <td>2</td>\n",
       "      <td>2</td>\n",
       "    </tr>\n",
       "    <tr>\n",
       "      <th>sometimes</th>\n",
       "      <td>84</td>\n",
       "      <td>77</td>\n",
       "      <td>62</td>\n",
       "      <td>82</td>\n",
       "      <td>74</td>\n",
       "      <td>72</td>\n",
       "      <td>70</td>\n",
       "      <td>65</td>\n",
       "      <td>70</td>\n",
       "      <td>63</td>\n",
       "      <td>...</td>\n",
       "      <td>84</td>\n",
       "      <td>38</td>\n",
       "      <td>84</td>\n",
       "      <td>62</td>\n",
       "      <td>59</td>\n",
       "      <td>84</td>\n",
       "      <td>70</td>\n",
       "      <td>79</td>\n",
       "      <td>84</td>\n",
       "      <td>84</td>\n",
       "    </tr>\n",
       "    <tr>\n",
       "      <th rowspan=\"2\" valign=\"top\">dropped out of college/university</th>\n",
       "      <th>never</th>\n",
       "      <td>460</td>\n",
       "      <td>432</td>\n",
       "      <td>306</td>\n",
       "      <td>454</td>\n",
       "      <td>417</td>\n",
       "      <td>412</td>\n",
       "      <td>406</td>\n",
       "      <td>392</td>\n",
       "      <td>394</td>\n",
       "      <td>393</td>\n",
       "      <td>...</td>\n",
       "      <td>460</td>\n",
       "      <td>262</td>\n",
       "      <td>460</td>\n",
       "      <td>362</td>\n",
       "      <td>389</td>\n",
       "      <td>460</td>\n",
       "      <td>424</td>\n",
       "      <td>454</td>\n",
       "      <td>460</td>\n",
       "      <td>460</td>\n",
       "    </tr>\n",
       "    <tr>\n",
       "      <th>often</th>\n",
       "      <td>19</td>\n",
       "      <td>19</td>\n",
       "      <td>13</td>\n",
       "      <td>19</td>\n",
       "      <td>18</td>\n",
       "      <td>15</td>\n",
       "      <td>17</td>\n",
       "      <td>14</td>\n",
       "      <td>15</td>\n",
       "      <td>13</td>\n",
       "      <td>...</td>\n",
       "      <td>19</td>\n",
       "      <td>11</td>\n",
       "      <td>19</td>\n",
       "      <td>16</td>\n",
       "      <td>17</td>\n",
       "      <td>19</td>\n",
       "      <td>17</td>\n",
       "      <td>17</td>\n",
       "      <td>19</td>\n",
       "      <td>19</td>\n",
       "    </tr>\n",
       "    <tr>\n",
       "      <th>...</th>\n",
       "      <th>...</th>\n",
       "      <td>...</td>\n",
       "      <td>...</td>\n",
       "      <td>...</td>\n",
       "      <td>...</td>\n",
       "      <td>...</td>\n",
       "      <td>...</td>\n",
       "      <td>...</td>\n",
       "      <td>...</td>\n",
       "      <td>...</td>\n",
       "      <td>...</td>\n",
       "      <td>...</td>\n",
       "      <td>...</td>\n",
       "      <td>...</td>\n",
       "      <td>...</td>\n",
       "      <td>...</td>\n",
       "      <td>...</td>\n",
       "      <td>...</td>\n",
       "      <td>...</td>\n",
       "      <td>...</td>\n",
       "      <td>...</td>\n",
       "      <td>...</td>\n",
       "    </tr>\n",
       "    <tr>\n",
       "      <th rowspan=\"2\" valign=\"top\">working on space camp</th>\n",
       "      <th>often</th>\n",
       "      <td>14</td>\n",
       "      <td>12</td>\n",
       "      <td>13</td>\n",
       "      <td>13</td>\n",
       "      <td>14</td>\n",
       "      <td>13</td>\n",
       "      <td>13</td>\n",
       "      <td>13</td>\n",
       "      <td>13</td>\n",
       "      <td>13</td>\n",
       "      <td>...</td>\n",
       "      <td>14</td>\n",
       "      <td>8</td>\n",
       "      <td>14</td>\n",
       "      <td>12</td>\n",
       "      <td>12</td>\n",
       "      <td>14</td>\n",
       "      <td>14</td>\n",
       "      <td>14</td>\n",
       "      <td>14</td>\n",
       "      <td>14</td>\n",
       "    </tr>\n",
       "    <tr>\n",
       "      <th>sometimes</th>\n",
       "      <td>102</td>\n",
       "      <td>95</td>\n",
       "      <td>78</td>\n",
       "      <td>101</td>\n",
       "      <td>95</td>\n",
       "      <td>92</td>\n",
       "      <td>90</td>\n",
       "      <td>90</td>\n",
       "      <td>90</td>\n",
       "      <td>90</td>\n",
       "      <td>...</td>\n",
       "      <td>102</td>\n",
       "      <td>42</td>\n",
       "      <td>102</td>\n",
       "      <td>82</td>\n",
       "      <td>82</td>\n",
       "      <td>102</td>\n",
       "      <td>95</td>\n",
       "      <td>93</td>\n",
       "      <td>102</td>\n",
       "      <td>102</td>\n",
       "    </tr>\n",
       "    <tr>\n",
       "      <th rowspan=\"3\" valign=\"top\">working on two-year college</th>\n",
       "      <th>never</th>\n",
       "      <td>708</td>\n",
       "      <td>666</td>\n",
       "      <td>415</td>\n",
       "      <td>684</td>\n",
       "      <td>635</td>\n",
       "      <td>636</td>\n",
       "      <td>604</td>\n",
       "      <td>601</td>\n",
       "      <td>570</td>\n",
       "      <td>578</td>\n",
       "      <td>...</td>\n",
       "      <td>708</td>\n",
       "      <td>349</td>\n",
       "      <td>708</td>\n",
       "      <td>534</td>\n",
       "      <td>535</td>\n",
       "      <td>708</td>\n",
       "      <td>661</td>\n",
       "      <td>671</td>\n",
       "      <td>708</td>\n",
       "      <td>708</td>\n",
       "    </tr>\n",
       "    <tr>\n",
       "      <th>often</th>\n",
       "      <td>16</td>\n",
       "      <td>15</td>\n",
       "      <td>10</td>\n",
       "      <td>15</td>\n",
       "      <td>15</td>\n",
       "      <td>14</td>\n",
       "      <td>15</td>\n",
       "      <td>14</td>\n",
       "      <td>11</td>\n",
       "      <td>12</td>\n",
       "      <td>...</td>\n",
       "      <td>16</td>\n",
       "      <td>10</td>\n",
       "      <td>16</td>\n",
       "      <td>12</td>\n",
       "      <td>12</td>\n",
       "      <td>16</td>\n",
       "      <td>14</td>\n",
       "      <td>15</td>\n",
       "      <td>16</td>\n",
       "      <td>16</td>\n",
       "    </tr>\n",
       "    <tr>\n",
       "      <th>sometimes</th>\n",
       "      <td>197</td>\n",
       "      <td>183</td>\n",
       "      <td>138</td>\n",
       "      <td>196</td>\n",
       "      <td>182</td>\n",
       "      <td>179</td>\n",
       "      <td>171</td>\n",
       "      <td>173</td>\n",
       "      <td>166</td>\n",
       "      <td>165</td>\n",
       "      <td>...</td>\n",
       "      <td>197</td>\n",
       "      <td>87</td>\n",
       "      <td>197</td>\n",
       "      <td>156</td>\n",
       "      <td>155</td>\n",
       "      <td>197</td>\n",
       "      <td>190</td>\n",
       "      <td>189</td>\n",
       "      <td>196</td>\n",
       "      <td>197</td>\n",
       "    </tr>\n",
       "  </tbody>\n",
       "</table>\n",
       "<p>89 rows × 29 columns</p>\n",
       "</div>"
      ],
      "text/plain": [
       "                                             age  body_type  diet  drinks  \\\n",
       "education                         drugs                                     \n",
       "college/university                never      523        491   278     502   \n",
       "                                  often        2          2     2       2   \n",
       "                                  sometimes   84         77    62      82   \n",
       "dropped out of college/university never      460        432   306     454   \n",
       "                                  often       19         19    13      19   \n",
       "...                                          ...        ...   ...     ...   \n",
       "working on space camp             often       14         12    13      13   \n",
       "                                  sometimes  102         95    78     101   \n",
       "working on two-year college       never      708        666   415     684   \n",
       "                                  often       16         15    10      15   \n",
       "                                  sometimes  197        183   138     196   \n",
       "\n",
       "                                             essay0  essay1  essay2  essay3  \\\n",
       "education                         drugs                                       \n",
       "college/university                never         455     411     385     368   \n",
       "                                  often           2       2       2       2   \n",
       "                                  sometimes      74      72      70      65   \n",
       "dropped out of college/university never         417     412     406     392   \n",
       "                                  often          18      15      17      14   \n",
       "...                                             ...     ...     ...     ...   \n",
       "working on space camp             often          14      13      13      13   \n",
       "                                  sometimes      95      92      90      90   \n",
       "working on two-year college       never         635     636     604     601   \n",
       "                                  often          15      14      15      14   \n",
       "                                  sometimes     182     179     171     173   \n",
       "\n",
       "                                             essay4  essay5  ...  location  \\\n",
       "education                         drugs                      ...             \n",
       "college/university                never         358     372  ...       523   \n",
       "                                  often           2       2  ...         2   \n",
       "                                  sometimes      70      63  ...        84   \n",
       "dropped out of college/university never         394     393  ...       460   \n",
       "                                  often          15      13  ...        19   \n",
       "...                                             ...     ...  ...       ...   \n",
       "working on space camp             often          13      13  ...        14   \n",
       "                                  sometimes      90      90  ...       102   \n",
       "working on two-year college       never         570     578  ...       708   \n",
       "                                  often          11      12  ...        16   \n",
       "                                  sometimes     166     165  ...       197   \n",
       "\n",
       "                                             offspring  orientation  pets  \\\n",
       "education                         drugs                                     \n",
       "college/university                never            223          523   287   \n",
       "                                  often              1            2     1   \n",
       "                                  sometimes         38           84    62   \n",
       "dropped out of college/university never            262          460   362   \n",
       "                                  often             11           19    16   \n",
       "...                                                ...          ...   ...   \n",
       "working on space camp             often              8           14    12   \n",
       "                                  sometimes         42          102    82   \n",
       "working on two-year college       never            349          708   534   \n",
       "                                  often             10           16    12   \n",
       "                                  sometimes         87          197   156   \n",
       "\n",
       "                                             religion  sex  sign  smokes  \\\n",
       "education                         drugs                                    \n",
       "college/university                never           294  523   404     466   \n",
       "                                  often             1    2     2       2   \n",
       "                                  sometimes        59   84    70      79   \n",
       "dropped out of college/university never           389  460   424     454   \n",
       "                                  often            17   19    17      17   \n",
       "...                                               ...  ...   ...     ...   \n",
       "working on space camp             often            12   14    14      14   \n",
       "                                  sometimes        82  102    95      93   \n",
       "working on two-year college       never           535  708   661     671   \n",
       "                                  often            12   16    14      15   \n",
       "                                  sometimes       155  197   190     189   \n",
       "\n",
       "                                             speaks  status  \n",
       "education                         drugs                      \n",
       "college/university                never         523     523  \n",
       "                                  often           2       2  \n",
       "                                  sometimes      84      84  \n",
       "dropped out of college/university never         460     460  \n",
       "                                  often          19      19  \n",
       "...                                             ...     ...  \n",
       "working on space camp             often          14      14  \n",
       "                                  sometimes     102     102  \n",
       "working on two-year college       never         708     708  \n",
       "                                  often          16      16  \n",
       "                                  sometimes     196     197  \n",
       "\n",
       "[89 rows x 29 columns]"
      ]
     },
     "execution_count": 9,
     "metadata": {},
     "output_type": "execute_result"
    }
   ],
   "source": [
    "print(df['education'].value_counts())\n",
    "df.groupby(['education','drugs']).count()"
   ]
  },
  {
   "cell_type": "code",
   "execution_count": 10,
   "metadata": {},
   "outputs": [],
   "source": [
    "education = df['education'].value_counts().reset_index()\n",
    "education.columns=[\"Education Type\", \"Count\"]\n",
    "body_type = df['body_type'].value_counts().reset_index()\n",
    "body_type.columns=[\"Body Type\", \"Count\"]\n",
    "sign_type = df['sign'].value_counts().reset_index()\n",
    "sign_type.columns=[\"Sign Type\", \"Count\"]"
   ]
  },
  {
   "cell_type": "code",
   "execution_count": 11,
   "metadata": {},
   "outputs": [
    {
     "data": {
      "text/plain": [
       "32"
      ]
     },
     "execution_count": 11,
     "metadata": {},
     "output_type": "execute_result"
    }
   ],
   "source": [
    "len(education['Education Type'])"
   ]
  },
  {
   "cell_type": "code",
   "execution_count": 12,
   "metadata": {},
   "outputs": [
    {
     "data": {
      "image/png": "[encoded data removed]",
      "text/plain": [
       "<Figure size 1152x576 with 1 Axes>"
      ]
     },
     "metadata": {
      "needs_background": "light"
     },
     "output_type": "display_data"
    },
    {
     "data": {
      "image/png": "[encoded data removed]",
      "text/plain": [
       "<Figure size 1152x576 with 1 Axes>"
      ]
     },
     "metadata": {
      "needs_background": "light"
     },
     "output_type": "display_data"
    },
    {
     "data": {
      "image/png": "[encoded data removed]",
      "text/plain": [
       "<Figure size 1152x576 with 1 Axes>"
      ]
     },
     "metadata": {
      "needs_background": "light"
     },
     "output_type": "display_data"
    }
   ],
   "source": [
    "plt.figure(figsize=(16,8))\n",
    "plt.bar(education['Education Type'],education['Count'])\n",
    "plt.xticks(rotation=90) \n",
    "plt.title(\"Number of Each Education Type in Data Set\")\n",
    "plt.xlabel('Education Type')\n",
    "plt.ylabel('Count')\n",
    "plt.show()\n",
    "plt.figure(figsize=(16,8))\n",
    "plt.bar(body_type['Body Type'],body_type['Count'], color='red')\n",
    "plt.xticks(rotation=90) \n",
    "plt.title(\"Number of Each Body Type in Data Set\")\n",
    "plt.xlabel('Body Type')\n",
    "plt.ylabel('Count')\n",
    "plt.show()\n",
    "plt.figure(figsize=(16,8))\n",
    "plt.bar(sign_type['Sign Type'],sign_type['Count'], color='green')\n",
    "plt.xticks(rotation=90) \n",
    "plt.title(\"Number of Each Sign Type in Data Set\")\n",
    "plt.xlabel('Sign Type')\n",
    "plt.ylabel('Count')\n",
    "plt.show()"
   ]
  },
  {
   "cell_type": "code",
   "execution_count": 13,
   "metadata": {},
   "outputs": [
    {
     "data": {
      "text/plain": [
       "Index(['age', 'body_type', 'diet', 'drinks', 'drugs', 'education', 'essay0',\n",
       "       'essay1', 'essay2', 'essay3', 'essay4', 'essay5', 'essay6', 'essay7',\n",
       "       'essay8', 'essay9', 'ethnicity', 'height', 'income', 'job',\n",
       "       'last_online', 'location', 'offspring', 'orientation', 'pets',\n",
       "       'religion', 'sex', 'sign', 'smokes', 'speaks', 'status'],\n",
       "      dtype='object')"
      ]
     },
     "execution_count": 13,
     "metadata": {},
     "output_type": "execute_result"
    }
   ],
   "source": [
    "df.columns"
   ]
  },
  {
   "cell_type": "code",
   "execution_count": 14,
   "metadata": {},
   "outputs": [],
   "source": [
    "df.reset_index(inplace=True)"
   ]
  },
  {
   "cell_type": "code",
   "execution_count": 15,
   "metadata": {},
   "outputs": [
    {
     "data": {
      "text/html": [
       "<div>\n",
       "<style scoped>\n",
       "    .dataframe tbody tr th:only-of-type {\n",
       "        vertical-align: middle;\n",
       "    }\n",
       "\n",
       "    .dataframe tbody tr th {\n",
       "        vertical-align: top;\n",
       "    }\n",
       "\n",
       "    .dataframe thead th {\n",
       "        text-align: right;\n",
       "    }\n",
       "</style>\n",
       "<table border=\"1\" class=\"dataframe\">\n",
       "  <thead>\n",
       "    <tr style=\"text-align: right;\">\n",
       "      <th></th>\n",
       "      <th>index</th>\n",
       "      <th>age</th>\n",
       "      <th>body_type</th>\n",
       "      <th>diet</th>\n",
       "      <th>drinks</th>\n",
       "      <th>drugs</th>\n",
       "      <th>education</th>\n",
       "      <th>essay0</th>\n",
       "      <th>essay1</th>\n",
       "      <th>essay2</th>\n",
       "      <th>...</th>\n",
       "      <th>location</th>\n",
       "      <th>offspring</th>\n",
       "      <th>orientation</th>\n",
       "      <th>pets</th>\n",
       "      <th>religion</th>\n",
       "      <th>sex</th>\n",
       "      <th>sign</th>\n",
       "      <th>smokes</th>\n",
       "      <th>speaks</th>\n",
       "      <th>status</th>\n",
       "    </tr>\n",
       "  </thead>\n",
       "  <tbody>\n",
       "    <tr>\n",
       "      <th>0</th>\n",
       "      <td>0</td>\n",
       "      <td>22</td>\n",
       "      <td>a little extra</td>\n",
       "      <td>strictly anything</td>\n",
       "      <td>socially</td>\n",
       "      <td>never</td>\n",
       "      <td>working on college/university</td>\n",
       "      <td>about me:&lt;br /&gt;\\n&lt;br /&gt;\\ni would love to think...</td>\n",
       "      <td>currently working as an international agent fo...</td>\n",
       "      <td>making people laugh.&lt;br /&gt;\\nranting about a go...</td>\n",
       "      <td>...</td>\n",
       "      <td>south san francisco, california</td>\n",
       "      <td>doesn&amp;rsquo;t have kids, but might want them</td>\n",
       "      <td>straight</td>\n",
       "      <td>likes dogs and likes cats</td>\n",
       "      <td>agnosticism and very serious about it</td>\n",
       "      <td>m</td>\n",
       "      <td>gemini</td>\n",
       "      <td>sometimes</td>\n",
       "      <td>english</td>\n",
       "      <td>single</td>\n",
       "    </tr>\n",
       "    <tr>\n",
       "      <th>1</th>\n",
       "      <td>1</td>\n",
       "      <td>35</td>\n",
       "      <td>average</td>\n",
       "      <td>mostly other</td>\n",
       "      <td>often</td>\n",
       "      <td>sometimes</td>\n",
       "      <td>working on space camp</td>\n",
       "      <td>i am a chef: this is what that means.&lt;br /&gt;\\n1...</td>\n",
       "      <td>dedicating everyday to being an unbelievable b...</td>\n",
       "      <td>being silly. having ridiculous amonts of fun w...</td>\n",
       "      <td>...</td>\n",
       "      <td>oakland, california</td>\n",
       "      <td>doesn&amp;rsquo;t have kids, but might want them</td>\n",
       "      <td>straight</td>\n",
       "      <td>likes dogs and likes cats</td>\n",
       "      <td>agnosticism but not too serious about it</td>\n",
       "      <td>m</td>\n",
       "      <td>cancer</td>\n",
       "      <td>no</td>\n",
       "      <td>english (fluently), spanish (poorly), french (...</td>\n",
       "      <td>single</td>\n",
       "    </tr>\n",
       "    <tr>\n",
       "      <th>2</th>\n",
       "      <td>2</td>\n",
       "      <td>38</td>\n",
       "      <td>thin</td>\n",
       "      <td>anything</td>\n",
       "      <td>socially</td>\n",
       "      <td>NaN</td>\n",
       "      <td>graduated from masters program</td>\n",
       "      <td>i'm not ashamed of much, but writing public te...</td>\n",
       "      <td>i make nerdy software for musicians, artists, ...</td>\n",
       "      <td>improvising in different contexts. alternating...</td>\n",
       "      <td>...</td>\n",
       "      <td>san francisco, california</td>\n",
       "      <td>NaN</td>\n",
       "      <td>straight</td>\n",
       "      <td>has cats</td>\n",
       "      <td>NaN</td>\n",
       "      <td>m</td>\n",
       "      <td>pisces but it doesn&amp;rsquo;t matter</td>\n",
       "      <td>no</td>\n",
       "      <td>english, french, c++</td>\n",
       "      <td>available</td>\n",
       "    </tr>\n",
       "    <tr>\n",
       "      <th>3</th>\n",
       "      <td>3</td>\n",
       "      <td>23</td>\n",
       "      <td>thin</td>\n",
       "      <td>vegetarian</td>\n",
       "      <td>socially</td>\n",
       "      <td>NaN</td>\n",
       "      <td>working on college/university</td>\n",
       "      <td>i work in a library and go to school. . .</td>\n",
       "      <td>reading things written by old dead people</td>\n",
       "      <td>playing synthesizers and organizing books acco...</td>\n",
       "      <td>...</td>\n",
       "      <td>berkeley, california</td>\n",
       "      <td>doesn&amp;rsquo;t want kids</td>\n",
       "      <td>straight</td>\n",
       "      <td>likes cats</td>\n",
       "      <td>NaN</td>\n",
       "      <td>m</td>\n",
       "      <td>pisces</td>\n",
       "      <td>no</td>\n",
       "      <td>english, german (poorly)</td>\n",
       "      <td>single</td>\n",
       "    </tr>\n",
       "    <tr>\n",
       "      <th>4</th>\n",
       "      <td>4</td>\n",
       "      <td>29</td>\n",
       "      <td>athletic</td>\n",
       "      <td>NaN</td>\n",
       "      <td>socially</td>\n",
       "      <td>never</td>\n",
       "      <td>graduated from college/university</td>\n",
       "      <td>hey how's it going? currently vague on the pro...</td>\n",
       "      <td>work work work work + play</td>\n",
       "      <td>creating imagery to look at:&lt;br /&gt;\\nhttp://bag...</td>\n",
       "      <td>...</td>\n",
       "      <td>san francisco, california</td>\n",
       "      <td>NaN</td>\n",
       "      <td>straight</td>\n",
       "      <td>likes dogs and likes cats</td>\n",
       "      <td>NaN</td>\n",
       "      <td>m</td>\n",
       "      <td>aquarius</td>\n",
       "      <td>no</td>\n",
       "      <td>english</td>\n",
       "      <td>single</td>\n",
       "    </tr>\n",
       "    <tr>\n",
       "      <th>...</th>\n",
       "      <td>...</td>\n",
       "      <td>...</td>\n",
       "      <td>...</td>\n",
       "      <td>...</td>\n",
       "      <td>...</td>\n",
       "      <td>...</td>\n",
       "      <td>...</td>\n",
       "      <td>...</td>\n",
       "      <td>...</td>\n",
       "      <td>...</td>\n",
       "      <td>...</td>\n",
       "      <td>...</td>\n",
       "      <td>...</td>\n",
       "      <td>...</td>\n",
       "      <td>...</td>\n",
       "      <td>...</td>\n",
       "      <td>...</td>\n",
       "      <td>...</td>\n",
       "      <td>...</td>\n",
       "      <td>...</td>\n",
       "      <td>...</td>\n",
       "    </tr>\n",
       "    <tr>\n",
       "      <th>59941</th>\n",
       "      <td>59941</td>\n",
       "      <td>59</td>\n",
       "      <td>NaN</td>\n",
       "      <td>NaN</td>\n",
       "      <td>socially</td>\n",
       "      <td>never</td>\n",
       "      <td>graduated from college/university</td>\n",
       "      <td>vibrant, expressive, caring optimist. i love b...</td>\n",
       "      <td>the happiest times have been when life came to...</td>\n",
       "      <td>i make an outstanding osso bucco. i am also ve...</td>\n",
       "      <td>...</td>\n",
       "      <td>oakland, california</td>\n",
       "      <td>has kids</td>\n",
       "      <td>straight</td>\n",
       "      <td>has dogs</td>\n",
       "      <td>catholicism but not too serious about it</td>\n",
       "      <td>f</td>\n",
       "      <td>cancer and it&amp;rsquo;s fun to think about</td>\n",
       "      <td>no</td>\n",
       "      <td>english</td>\n",
       "      <td>single</td>\n",
       "    </tr>\n",
       "    <tr>\n",
       "      <th>59942</th>\n",
       "      <td>59942</td>\n",
       "      <td>24</td>\n",
       "      <td>fit</td>\n",
       "      <td>mostly anything</td>\n",
       "      <td>often</td>\n",
       "      <td>sometimes</td>\n",
       "      <td>working on college/university</td>\n",
       "      <td>i'm nick.&lt;br /&gt;\\ni never know what to write ab...</td>\n",
       "      <td>currently finishing school for film production...</td>\n",
       "      <td>&lt;a class=\"ilink\" href=\"/interests?i=filmmaking...</td>\n",
       "      <td>...</td>\n",
       "      <td>san francisco, california</td>\n",
       "      <td>doesn&amp;rsquo;t have kids</td>\n",
       "      <td>straight</td>\n",
       "      <td>likes dogs and likes cats</td>\n",
       "      <td>agnosticism</td>\n",
       "      <td>m</td>\n",
       "      <td>leo but it doesn&amp;rsquo;t matter</td>\n",
       "      <td>no</td>\n",
       "      <td>english (fluently)</td>\n",
       "      <td>single</td>\n",
       "    </tr>\n",
       "    <tr>\n",
       "      <th>59943</th>\n",
       "      <td>59943</td>\n",
       "      <td>42</td>\n",
       "      <td>average</td>\n",
       "      <td>mostly anything</td>\n",
       "      <td>not at all</td>\n",
       "      <td>never</td>\n",
       "      <td>graduated from masters program</td>\n",
       "      <td>hello! i enjoy traveling, watching movies, and...</td>\n",
       "      <td>i'm a civil engineer, who enjoys helping the c...</td>\n",
       "      <td>- looking at things objectively&lt;br /&gt;\\n- getti...</td>\n",
       "      <td>...</td>\n",
       "      <td>south san francisco, california</td>\n",
       "      <td>doesn&amp;rsquo;t have kids</td>\n",
       "      <td>straight</td>\n",
       "      <td>NaN</td>\n",
       "      <td>christianity but not too serious about it</td>\n",
       "      <td>m</td>\n",
       "      <td>sagittarius but it doesn&amp;rsquo;t matter</td>\n",
       "      <td>no</td>\n",
       "      <td>english (fluently)</td>\n",
       "      <td>single</td>\n",
       "    </tr>\n",
       "    <tr>\n",
       "      <th>59944</th>\n",
       "      <td>59944</td>\n",
       "      <td>27</td>\n",
       "      <td>athletic</td>\n",
       "      <td>mostly anything</td>\n",
       "      <td>socially</td>\n",
       "      <td>often</td>\n",
       "      <td>working on college/university</td>\n",
       "      <td>\"all i have in this world are my balls and my ...</td>\n",
       "      <td>following my dreams...&lt;br /&gt;\\n\"you got a dream...</td>\n",
       "      <td>listening</td>\n",
       "      <td>...</td>\n",
       "      <td>san francisco, california</td>\n",
       "      <td>doesn&amp;rsquo;t have kids, but wants them</td>\n",
       "      <td>straight</td>\n",
       "      <td>likes dogs and likes cats</td>\n",
       "      <td>agnosticism but not too serious about it</td>\n",
       "      <td>m</td>\n",
       "      <td>leo and it&amp;rsquo;s fun to think about</td>\n",
       "      <td>trying to quit</td>\n",
       "      <td>english (fluently), spanish (poorly), chinese ...</td>\n",
       "      <td>single</td>\n",
       "    </tr>\n",
       "    <tr>\n",
       "      <th>59945</th>\n",
       "      <td>59945</td>\n",
       "      <td>39</td>\n",
       "      <td>average</td>\n",
       "      <td>NaN</td>\n",
       "      <td>socially</td>\n",
       "      <td>NaN</td>\n",
       "      <td>graduated from masters program</td>\n",
       "      <td>is it odd that having a little \"enemy\" status ...</td>\n",
       "      <td>i work with elderly people (psychotherapy and ...</td>\n",
       "      <td>i'm a great bullshitter. i don't know what it ...</td>\n",
       "      <td>...</td>\n",
       "      <td>san francisco, california</td>\n",
       "      <td>NaN</td>\n",
       "      <td>gay</td>\n",
       "      <td>likes dogs and likes cats</td>\n",
       "      <td>catholicism and laughing about it</td>\n",
       "      <td>m</td>\n",
       "      <td>gemini and it&amp;rsquo;s fun to think about</td>\n",
       "      <td>sometimes</td>\n",
       "      <td>english</td>\n",
       "      <td>single</td>\n",
       "    </tr>\n",
       "  </tbody>\n",
       "</table>\n",
       "<p>59946 rows × 32 columns</p>\n",
       "</div>"
      ],
      "text/plain": [
       "       index  age       body_type               diet      drinks      drugs  \\\n",
       "0          0   22  a little extra  strictly anything    socially      never   \n",
       "1          1   35         average       mostly other       often  sometimes   \n",
       "2          2   38            thin           anything    socially        NaN   \n",
       "3          3   23            thin         vegetarian    socially        NaN   \n",
       "4          4   29        athletic                NaN    socially      never   \n",
       "...      ...  ...             ...                ...         ...        ...   \n",
       "59941  59941   59             NaN                NaN    socially      never   \n",
       "59942  59942   24             fit    mostly anything       often  sometimes   \n",
       "59943  59943   42         average    mostly anything  not at all      never   \n",
       "59944  59944   27        athletic    mostly anything    socially      often   \n",
       "59945  59945   39         average                NaN    socially        NaN   \n",
       "\n",
       "                               education  \\\n",
       "0          working on college/university   \n",
       "1                  working on space camp   \n",
       "2         graduated from masters program   \n",
       "3          working on college/university   \n",
       "4      graduated from college/university   \n",
       "...                                  ...   \n",
       "59941  graduated from college/university   \n",
       "59942      working on college/university   \n",
       "59943     graduated from masters program   \n",
       "59944      working on college/university   \n",
       "59945     graduated from masters program   \n",
       "\n",
       "                                                  essay0  \\\n",
       "0      about me:<br />\\n<br />\\ni would love to think...   \n",
       "1      i am a chef: this is what that means.<br />\\n1...   \n",
       "2      i'm not ashamed of much, but writing public te...   \n",
       "3              i work in a library and go to school. . .   \n",
       "4      hey how's it going? currently vague on the pro...   \n",
       "...                                                  ...   \n",
       "59941  vibrant, expressive, caring optimist. i love b...   \n",
       "59942  i'm nick.<br />\\ni never know what to write ab...   \n",
       "59943  hello! i enjoy traveling, watching movies, and...   \n",
       "59944  \"all i have in this world are my balls and my ...   \n",
       "59945  is it odd that having a little \"enemy\" status ...   \n",
       "\n",
       "                                                  essay1  \\\n",
       "0      currently working as an international agent fo...   \n",
       "1      dedicating everyday to being an unbelievable b...   \n",
       "2      i make nerdy software for musicians, artists, ...   \n",
       "3              reading things written by old dead people   \n",
       "4                             work work work work + play   \n",
       "...                                                  ...   \n",
       "59941  the happiest times have been when life came to...   \n",
       "59942  currently finishing school for film production...   \n",
       "59943  i'm a civil engineer, who enjoys helping the c...   \n",
       "59944  following my dreams...<br />\\n\"you got a dream...   \n",
       "59945  i work with elderly people (psychotherapy and ...   \n",
       "\n",
       "                                                  essay2  ...  \\\n",
       "0      making people laugh.<br />\\nranting about a go...  ...   \n",
       "1      being silly. having ridiculous amonts of fun w...  ...   \n",
       "2      improvising in different contexts. alternating...  ...   \n",
       "3      playing synthesizers and organizing books acco...  ...   \n",
       "4      creating imagery to look at:<br />\\nhttp://bag...  ...   \n",
       "...                                                  ...  ...   \n",
       "59941  i make an outstanding osso bucco. i am also ve...  ...   \n",
       "59942  <a class=\"ilink\" href=\"/interests?i=filmmaking...  ...   \n",
       "59943  - looking at things objectively<br />\\n- getti...  ...   \n",
       "59944                                          listening  ...   \n",
       "59945  i'm a great bullshitter. i don't know what it ...  ...   \n",
       "\n",
       "                              location  \\\n",
       "0      south san francisco, california   \n",
       "1                  oakland, california   \n",
       "2            san francisco, california   \n",
       "3                 berkeley, california   \n",
       "4            san francisco, california   \n",
       "...                                ...   \n",
       "59941              oakland, california   \n",
       "59942        san francisco, california   \n",
       "59943  south san francisco, california   \n",
       "59944        san francisco, california   \n",
       "59945        san francisco, california   \n",
       "\n",
       "                                          offspring orientation  \\\n",
       "0      doesn&rsquo;t have kids, but might want them    straight   \n",
       "1      doesn&rsquo;t have kids, but might want them    straight   \n",
       "2                                               NaN    straight   \n",
       "3                           doesn&rsquo;t want kids    straight   \n",
       "4                                               NaN    straight   \n",
       "...                                             ...         ...   \n",
       "59941                                      has kids    straight   \n",
       "59942                       doesn&rsquo;t have kids    straight   \n",
       "59943                       doesn&rsquo;t have kids    straight   \n",
       "59944       doesn&rsquo;t have kids, but wants them    straight   \n",
       "59945                                           NaN         gay   \n",
       "\n",
       "                            pets                                   religion  \\\n",
       "0      likes dogs and likes cats      agnosticism and very serious about it   \n",
       "1      likes dogs and likes cats   agnosticism but not too serious about it   \n",
       "2                       has cats                                        NaN   \n",
       "3                     likes cats                                        NaN   \n",
       "4      likes dogs and likes cats                                        NaN   \n",
       "...                          ...                                        ...   \n",
       "59941                   has dogs   catholicism but not too serious about it   \n",
       "59942  likes dogs and likes cats                                agnosticism   \n",
       "59943                        NaN  christianity but not too serious about it   \n",
       "59944  likes dogs and likes cats   agnosticism but not too serious about it   \n",
       "59945  likes dogs and likes cats          catholicism and laughing about it   \n",
       "\n",
       "      sex                                      sign          smokes  \\\n",
       "0       m                                    gemini       sometimes   \n",
       "1       m                                    cancer              no   \n",
       "2       m        pisces but it doesn&rsquo;t matter              no   \n",
       "3       m                                    pisces              no   \n",
       "4       m                                  aquarius              no   \n",
       "...    ..                                       ...             ...   \n",
       "59941   f  cancer and it&rsquo;s fun to think about              no   \n",
       "59942   m           leo but it doesn&rsquo;t matter              no   \n",
       "59943   m   sagittarius but it doesn&rsquo;t matter              no   \n",
       "59944   m     leo and it&rsquo;s fun to think about  trying to quit   \n",
       "59945   m  gemini and it&rsquo;s fun to think about       sometimes   \n",
       "\n",
       "                                                  speaks     status  \n",
       "0                                                english     single  \n",
       "1      english (fluently), spanish (poorly), french (...     single  \n",
       "2                                   english, french, c++  available  \n",
       "3                               english, german (poorly)     single  \n",
       "4                                                english     single  \n",
       "...                                                  ...        ...  \n",
       "59941                                            english     single  \n",
       "59942                                 english (fluently)     single  \n",
       "59943                                 english (fluently)     single  \n",
       "59944  english (fluently), spanish (poorly), chinese ...     single  \n",
       "59945                                            english     single  \n",
       "\n",
       "[59946 rows x 32 columns]"
      ]
     },
     "execution_count": 15,
     "metadata": {},
     "output_type": "execute_result"
    }
   ],
   "source": [
    "df"
   ]
  },
  {
   "cell_type": "code",
   "execution_count": 16,
   "metadata": {},
   "outputs": [],
   "source": [
    "#drugs_diet_cnts = df[['drugs','diet']].value_counts()\n",
    "drugs_diet_cnts = df.reset_index().groupby(['drugs','diet'])['index'].nunique() #agg(lambda x: x.nunique())"
   ]
  },
  {
   "cell_type": "code",
   "execution_count": 17,
   "metadata": {},
   "outputs": [],
   "source": [
    "drug_diet_cnts = drugs_diet_cnts.reset_index().rename(columns={\"index\": \"count\"})"
   ]
  },
  {
   "cell_type": "code",
   "execution_count": 18,
   "metadata": {},
   "outputs": [
    {
     "data": {
      "text/html": [
       "<div>\n",
       "<style scoped>\n",
       "    .dataframe tbody tr th:only-of-type {\n",
       "        vertical-align: middle;\n",
       "    }\n",
       "\n",
       "    .dataframe tbody tr th {\n",
       "        vertical-align: top;\n",
       "    }\n",
       "\n",
       "    .dataframe thead th {\n",
       "        text-align: right;\n",
       "    }\n",
       "</style>\n",
       "<table border=\"1\" class=\"dataframe\">\n",
       "  <thead>\n",
       "    <tr style=\"text-align: right;\">\n",
       "      <th></th>\n",
       "      <th>drugs</th>\n",
       "      <th>diet</th>\n",
       "      <th>count</th>\n",
       "    </tr>\n",
       "  </thead>\n",
       "  <tbody>\n",
       "    <tr>\n",
       "      <th>0</th>\n",
       "      <td>never</td>\n",
       "      <td>anything</td>\n",
       "      <td>4050</td>\n",
       "    </tr>\n",
       "    <tr>\n",
       "      <th>1</th>\n",
       "      <td>never</td>\n",
       "      <td>halal</td>\n",
       "      <td>6</td>\n",
       "    </tr>\n",
       "    <tr>\n",
       "      <th>2</th>\n",
       "      <td>never</td>\n",
       "      <td>kosher</td>\n",
       "      <td>9</td>\n",
       "    </tr>\n",
       "    <tr>\n",
       "      <th>3</th>\n",
       "      <td>never</td>\n",
       "      <td>mostly anything</td>\n",
       "      <td>11006</td>\n",
       "    </tr>\n",
       "    <tr>\n",
       "      <th>4</th>\n",
       "      <td>never</td>\n",
       "      <td>mostly halal</td>\n",
       "      <td>26</td>\n",
       "    </tr>\n",
       "  </tbody>\n",
       "</table>\n",
       "</div>"
      ],
      "text/plain": [
       "   drugs             diet  count\n",
       "0  never         anything   4050\n",
       "1  never            halal      6\n",
       "2  never           kosher      9\n",
       "3  never  mostly anything  11006\n",
       "4  never     mostly halal     26"
      ]
     },
     "execution_count": 18,
     "metadata": {},
     "output_type": "execute_result"
    }
   ],
   "source": [
    "drug_diet_cnts.head()"
   ]
  },
  {
   "cell_type": "markdown",
   "metadata": {},
   "source": [
    "### Formulate a Question\n",
    "\n",
    "\n",
    "As we started to look at this data, we started to get more and more curious about Zodiac signs. First, we looked at all of the possible values for Zodiac signs:\n",
    "\n",
    "\n",
    "```\n",
    "df.sign.value_counts()\n",
    "```\n",
    "\n",
    "\n",
    "We started to wonder if there was a way to predict a user's Zodiac sign from the information in their profile. Thinking about the columns we had already explored, we thought that maybe we could classify Zodiac signs using drinking, smoking, drugs, and essays as our features."
   ]
  },
  {
   "cell_type": "code",
   "execution_count": 19,
   "metadata": {},
   "outputs": [],
   "source": [
    "signs_selection = ['aries', 'cancer', 'libra', 'capricorn',\n",
    "        'taurus', 'leo', 'scorpio', 'aquarius',\n",
    "        'gemini', 'virgo', 'sagittarius', 'pisces']"
   ]
  },
  {
   "cell_type": "code",
   "execution_count": 20,
   "metadata": {},
   "outputs": [
    {
     "data": {
      "text/plain": [
       "[str, str, str, str, str, str, str, str, str, str, str, str]"
      ]
     },
     "execution_count": 20,
     "metadata": {},
     "output_type": "execute_result"
    }
   ],
   "source": [
    "[type(s) for s in signs_selection]"
   ]
  },
  {
   "cell_type": "code",
   "execution_count": 21,
   "metadata": {},
   "outputs": [],
   "source": [
    "df['sign_format_type'] = [str(type(s)) for s in list(df['sign'])]"
   ]
  },
  {
   "cell_type": "code",
   "execution_count": 22,
   "metadata": {},
   "outputs": [
    {
     "data": {
      "text/html": [
       "<div>\n",
       "<style scoped>\n",
       "    .dataframe tbody tr th:only-of-type {\n",
       "        vertical-align: middle;\n",
       "    }\n",
       "\n",
       "    .dataframe tbody tr th {\n",
       "        vertical-align: top;\n",
       "    }\n",
       "\n",
       "    .dataframe thead th {\n",
       "        text-align: right;\n",
       "    }\n",
       "</style>\n",
       "<table border=\"1\" class=\"dataframe\">\n",
       "  <thead>\n",
       "    <tr style=\"text-align: right;\">\n",
       "      <th></th>\n",
       "      <th>sign</th>\n",
       "      <th>sign_format_type</th>\n",
       "    </tr>\n",
       "  </thead>\n",
       "  <tbody>\n",
       "    <tr>\n",
       "      <th>13</th>\n",
       "      <td>NaN</td>\n",
       "      <td>&lt;class 'float'&gt;</td>\n",
       "    </tr>\n",
       "    <tr>\n",
       "      <th>28</th>\n",
       "      <td>NaN</td>\n",
       "      <td>&lt;class 'float'&gt;</td>\n",
       "    </tr>\n",
       "    <tr>\n",
       "      <th>31</th>\n",
       "      <td>NaN</td>\n",
       "      <td>&lt;class 'float'&gt;</td>\n",
       "    </tr>\n",
       "    <tr>\n",
       "      <th>35</th>\n",
       "      <td>NaN</td>\n",
       "      <td>&lt;class 'float'&gt;</td>\n",
       "    </tr>\n",
       "    <tr>\n",
       "      <th>39</th>\n",
       "      <td>NaN</td>\n",
       "      <td>&lt;class 'float'&gt;</td>\n",
       "    </tr>\n",
       "    <tr>\n",
       "      <th>...</th>\n",
       "      <td>...</td>\n",
       "      <td>...</td>\n",
       "    </tr>\n",
       "    <tr>\n",
       "      <th>59924</th>\n",
       "      <td>NaN</td>\n",
       "      <td>&lt;class 'float'&gt;</td>\n",
       "    </tr>\n",
       "    <tr>\n",
       "      <th>59926</th>\n",
       "      <td>NaN</td>\n",
       "      <td>&lt;class 'float'&gt;</td>\n",
       "    </tr>\n",
       "    <tr>\n",
       "      <th>59931</th>\n",
       "      <td>NaN</td>\n",
       "      <td>&lt;class 'float'&gt;</td>\n",
       "    </tr>\n",
       "    <tr>\n",
       "      <th>59933</th>\n",
       "      <td>NaN</td>\n",
       "      <td>&lt;class 'float'&gt;</td>\n",
       "    </tr>\n",
       "    <tr>\n",
       "      <th>59937</th>\n",
       "      <td>NaN</td>\n",
       "      <td>&lt;class 'float'&gt;</td>\n",
       "    </tr>\n",
       "  </tbody>\n",
       "</table>\n",
       "<p>11056 rows × 2 columns</p>\n",
       "</div>"
      ],
      "text/plain": [
       "      sign sign_format_type\n",
       "13     NaN  <class 'float'>\n",
       "28     NaN  <class 'float'>\n",
       "31     NaN  <class 'float'>\n",
       "35     NaN  <class 'float'>\n",
       "39     NaN  <class 'float'>\n",
       "...    ...              ...\n",
       "59924  NaN  <class 'float'>\n",
       "59926  NaN  <class 'float'>\n",
       "59931  NaN  <class 'float'>\n",
       "59933  NaN  <class 'float'>\n",
       "59937  NaN  <class 'float'>\n",
       "\n",
       "[11056 rows x 2 columns]"
      ]
     },
     "execution_count": 22,
     "metadata": {},
     "output_type": "execute_result"
    }
   ],
   "source": [
    "tmp = df[['sign','sign_format_type']]\n",
    "tmp[~tmp['sign_format_type'].str.contains('str')]"
   ]
  },
  {
   "cell_type": "code",
   "execution_count": 23,
   "metadata": {},
   "outputs": [],
   "source": [
    "df['sign'].fillna(\"unknown\", inplace=True)"
   ]
  },
  {
   "cell_type": "code",
   "execution_count": 24,
   "metadata": {},
   "outputs": [
    {
     "data": {
      "text/plain": [
       "0         True\n",
       "1         True\n",
       "2        False\n",
       "3         True\n",
       "4         True\n",
       "         ...  \n",
       "59941    False\n",
       "59942    False\n",
       "59943    False\n",
       "59944    False\n",
       "59945    False\n",
       "Name: sign, Length: 59946, dtype: bool"
      ]
     },
     "execution_count": 24,
     "metadata": {},
     "output_type": "execute_result"
    }
   ],
   "source": [
    "df['sign'].isin(signs_selection)"
   ]
  },
  {
   "cell_type": "code",
   "execution_count": 25,
   "metadata": {},
   "outputs": [
    {
     "data": {
      "text/plain": [
       "range(0, 59946)"
      ]
     },
     "execution_count": 25,
     "metadata": {},
     "output_type": "execute_result"
    }
   ],
   "source": [
    "range(len(df['sign']))"
   ]
  },
  {
   "cell_type": "code",
   "execution_count": 26,
   "metadata": {},
   "outputs": [
    {
     "name": "stderr",
     "output_type": "stream",
     "text": [
      "<ipython-input-26-1c12b2fb58af>:5: SettingWithCopyWarning: \n",
      "A value is trying to be set on a copy of a slice from a DataFrame\n",
      "\n",
      "See the caveats in the documentation: https://pandas.pydata.org/pandas-docs/stable/user_guide/indexing.html#returning-a-view-versus-a-copy\n",
      "  df['sign_selection'][sign] = selection\n"
     ]
    }
   ],
   "source": [
    "df['sign_selection'] = None\n",
    "for selection in signs_selection:\n",
    "    for sign in range(len(df['sign'])):\n",
    "        if selection in df['sign'][sign]:\n",
    "            df['sign_selection'][sign] = selection"
   ]
  },
  {
   "cell_type": "code",
   "execution_count": 27,
   "metadata": {},
   "outputs": [],
   "source": [
    "df['sign_selection'].fillna('unknown',inplace=True)"
   ]
  },
  {
   "cell_type": "code",
   "execution_count": null,
   "metadata": {},
   "outputs": [],
   "source": []
  },
  {
   "cell_type": "code",
   "execution_count": 28,
   "metadata": {},
   "outputs": [
    {
     "data": {
      "text/plain": [
       "dummy  drinks     \n",
       "1      desperately      322\n",
       "       not at all      3267\n",
       "       often           5164\n",
       "       rarely          5957\n",
       "       socially       41780\n",
       "       very often       471\n",
       "dtype: int64"
      ]
     },
     "execution_count": 28,
     "metadata": {},
     "output_type": "execute_result"
    }
   ],
   "source": [
    "df.assign(dummy=1).groupby(['dummy','drinks']).size()"
   ]
  },
  {
   "cell_type": "code",
   "execution_count": 29,
   "metadata": {},
   "outputs": [
    {
     "data": {
      "image/png": "[encoded data removed]",
      "text/plain": [
       "<Figure size 432x288 with 1 Axes>"
      ]
     },
     "metadata": {
      "needs_background": "light"
     },
     "output_type": "display_data"
    }
   ],
   "source": [
    "df.assign(dummy=1).groupby(['dummy','drinks']).size().groupby(level=0) \\\n",
    ".apply(lambda x: 100 * x / x.sum()).to_frame().unstack().plot(kind='bar', stacked=True, legend=False)\n",
    "plt.xlabel('Drinks')\n",
    "plt.xticks([])\n",
    "plt.ylabel('Percentage')\n",
    "plt.legend(df.groupby('drinks').nunique()['drinks'].to_frame().index)\n",
    "plt.gca().yaxis.set_major_formatter(mtick.PercentFormatter())\n",
    "plt.title(\"Percentage of Drinker Types within the Whole\")\n",
    "#axs[1].plot(x, -y)\n",
    "plt.show() "
   ]
  },
  {
   "cell_type": "code",
   "execution_count": 30,
   "metadata": {},
   "outputs": [
    {
     "data": {
      "text/plain": [
       "Index(['index', 'age', 'body_type', 'diet', 'drinks', 'drugs', 'education',\n",
       "       'essay0', 'essay1', 'essay2', 'essay3', 'essay4', 'essay5', 'essay6',\n",
       "       'essay7', 'essay8', 'essay9', 'ethnicity', 'height', 'income', 'job',\n",
       "       'last_online', 'location', 'offspring', 'orientation', 'pets',\n",
       "       'religion', 'sex', 'sign', 'smokes', 'speaks', 'status',\n",
       "       'sign_format_type', 'sign_selection'],\n",
       "      dtype='object')"
      ]
     },
     "execution_count": 30,
     "metadata": {},
     "output_type": "execute_result"
    }
   ],
   "source": [
    "df.columns"
   ]
  },
  {
   "cell_type": "code",
   "execution_count": 31,
   "metadata": {},
   "outputs": [
    {
     "data": {
      "text/plain": [
       "['desperately, no',\n",
       " 'desperately, sometimes',\n",
       " 'desperately, trying to quit',\n",
       " 'desperately, when drinking',\n",
       " 'desperately, yes',\n",
       " 'not at all, no',\n",
       " 'not at all, sometimes',\n",
       " 'not at all, trying to quit',\n",
       " 'not at all, when drinking',\n",
       " 'not at all, yes',\n",
       " 'often, no',\n",
       " 'often, sometimes',\n",
       " 'often, trying to quit',\n",
       " 'often, when drinking',\n",
       " 'often, yes',\n",
       " 'rarely, no',\n",
       " 'rarely, sometimes',\n",
       " 'rarely, trying to quit',\n",
       " 'rarely, when drinking',\n",
       " 'rarely, yes',\n",
       " 'socially, no',\n",
       " 'socially, sometimes',\n",
       " 'socially, trying to quit',\n",
       " 'socially, when drinking',\n",
       " 'socially, yes',\n",
       " 'very often, no',\n",
       " 'very often, sometimes',\n",
       " 'very often, trying to quit',\n",
       " 'very often, when drinking',\n",
       " 'very often, yes']"
      ]
     },
     "execution_count": 31,
     "metadata": {},
     "output_type": "execute_result"
    }
   ],
   "source": [
    "[i+\", \" + y for i,y in df.groupby(['drinks','smokes']).nunique().index]"
   ]
  },
  {
   "cell_type": "code",
   "execution_count": 32,
   "metadata": {},
   "outputs": [
    {
     "data": {
      "text/plain": [
       "['desperately',\n",
       " 'desperately',\n",
       " 'desperately',\n",
       " 'desperately',\n",
       " 'desperately',\n",
       " 'not at all',\n",
       " 'not at all',\n",
       " 'not at all',\n",
       " 'not at all',\n",
       " 'not at all',\n",
       " 'often',\n",
       " 'often',\n",
       " 'often',\n",
       " 'often',\n",
       " 'often',\n",
       " 'rarely',\n",
       " 'rarely',\n",
       " 'rarely',\n",
       " 'rarely',\n",
       " 'rarely',\n",
       " 'socially',\n",
       " 'socially',\n",
       " 'socially',\n",
       " 'socially',\n",
       " 'socially',\n",
       " 'very often',\n",
       " 'very often',\n",
       " 'very often',\n",
       " 'very often',\n",
       " 'very often']"
      ]
     },
     "execution_count": 32,
     "metadata": {},
     "output_type": "execute_result"
    }
   ],
   "source": [
    "[i for i,y in df.groupby(['drinks','smokes']).nunique().index]"
   ]
  },
  {
   "cell_type": "code",
   "execution_count": 33,
   "metadata": {},
   "outputs": [],
   "source": [
    "drink_types = [i for i in df.groupby(['drinks']).nunique()['drinks'].to_frame().index]"
   ]
  },
  {
   "cell_type": "code",
   "execution_count": 34,
   "metadata": {},
   "outputs": [
    {
     "data": {
      "text/plain": [
       "['socially', 'not at all', 'desperately', 'rarely', 'often', 'very often']"
      ]
     },
     "execution_count": 34,
     "metadata": {},
     "output_type": "execute_result"
    }
   ],
   "source": [
    "list(set([i for i,j in df.groupby(['drinks','smokes']).nunique()['drinks'].to_frame().index]))"
   ]
  },
  {
   "cell_type": "code",
   "execution_count": 35,
   "metadata": {},
   "outputs": [
    {
     "data": {
      "image/png": "[encoded data removed]",
      "text/plain": [
       "<Figure size 432x288 with 1 Axes>"
      ]
     },
     "metadata": {
      "needs_background": "light"
     },
     "output_type": "display_data"
    },
    {
     "data": {
      "image/png": "[encoded data removed]",
      "text/plain": [
       "<Figure size 432x288 with 1 Axes>"
      ]
     },
     "metadata": {
      "needs_background": "light"
     },
     "output_type": "display_data"
    },
    {
     "data": {
      "image/png": "[encoded data removed]",
      "text/plain": [
       "<Figure size 432x288 with 1 Axes>"
      ]
     },
     "metadata": {
      "needs_background": "light"
     },
     "output_type": "display_data"
    }
   ],
   "source": [
    "df.assign(dummy=1).groupby(['dummy','drinks']).size().groupby(level=0) \\\n",
    ".apply(lambda x: 100 * x / x.sum()).to_frame().unstack().plot(kind='bar', stacked=True, legend=False)\n",
    "plt.xlabel('Drinks')\n",
    "plt.xticks([])\n",
    "plt.ylabel('Percentage')\n",
    "plt.legend(df.groupby(['drinks']).nunique()['drinks'].to_frame().index)\n",
    "plt.gca().yaxis.set_major_formatter(mtick.PercentFormatter())\n",
    "plt.title(\"Percentage of Drinker Types within the Whole\")\n",
    "#plt.show() \n",
    "\n",
    "df.assign(dummy=1).groupby(['dummy','smokes']).size().groupby(level=0) \\\n",
    ".apply(lambda x: 100 * x / x.sum()).to_frame().unstack().plot(kind='bar', stacked=True, legend=False)\n",
    "plt.xlabel('Smokes')\n",
    "plt.xticks([])\n",
    "plt.ylabel('Percentage')\n",
    "plt.legend(df.groupby(['smokes']).nunique()['smokes'].to_frame().index)\n",
    "plt.gca().yaxis.set_major_formatter(mtick.PercentFormatter())\n",
    "plt.title(\"Percentage of Smokers/Non Smokers within the Whole\")\n",
    "\n",
    "\n",
    "df.assign(dummy=1).groupby(['dummy','drinks','smokes']).size().groupby(level=0) \\\n",
    ".apply(lambda x: 100 * x / x.sum()).to_frame().unstack().plot(kind='bar', stacked=True,legend=False)\n",
    "#plt.xlabel(list(set([i for i,j in df.groupby(['drinks','smokes']).nunique()['drinks'].to_frame().index])))\n",
    "plt.xticks(range(len(list(set([i for i,j in df.groupby(['drinks','smokes']).nunique()['drinks'].to_frame().index])))), list(set([i for i,j in df.groupby(['drinks','smokes']).nunique()['drinks'].to_frame().index])))\n",
    "plt.xlabel('Drinks')\n",
    "plt.ylabel('Percentage')\n",
    "plt.legend(df.groupby(['smokes']).nunique()['smokes'].to_frame().index)\n",
    "plt.gca().yaxis.set_major_formatter(mtick.PercentFormatter())\n",
    "plt.title(\"Drinkers who Smoke by Percentage\")\n",
    "plt.show()"
   ]
  },
  {
   "cell_type": "code",
   "execution_count": 36,
   "metadata": {},
   "outputs": [
    {
     "data": {
      "text/html": [
       "<div>\n",
       "<style scoped>\n",
       "    .dataframe tbody tr th:only-of-type {\n",
       "        vertical-align: middle;\n",
       "    }\n",
       "\n",
       "    .dataframe tbody tr th {\n",
       "        vertical-align: top;\n",
       "    }\n",
       "\n",
       "    .dataframe thead th {\n",
       "        text-align: right;\n",
       "    }\n",
       "</style>\n",
       "<table border=\"1\" class=\"dataframe\">\n",
       "  <thead>\n",
       "    <tr style=\"text-align: right;\">\n",
       "      <th></th>\n",
       "      <th>drinks</th>\n",
       "      <th>smokes</th>\n",
       "      <th>count</th>\n",
       "    </tr>\n",
       "  </thead>\n",
       "  <tbody>\n",
       "    <tr>\n",
       "      <th>0</th>\n",
       "      <td>desperately</td>\n",
       "      <td>no</td>\n",
       "      <td>164</td>\n",
       "    </tr>\n",
       "    <tr>\n",
       "      <th>1</th>\n",
       "      <td>desperately</td>\n",
       "      <td>sometimes</td>\n",
       "      <td>35</td>\n",
       "    </tr>\n",
       "    <tr>\n",
       "      <th>2</th>\n",
       "      <td>desperately</td>\n",
       "      <td>trying to quit</td>\n",
       "      <td>21</td>\n",
       "    </tr>\n",
       "    <tr>\n",
       "      <th>3</th>\n",
       "      <td>desperately</td>\n",
       "      <td>when drinking</td>\n",
       "      <td>33</td>\n",
       "    </tr>\n",
       "    <tr>\n",
       "      <th>4</th>\n",
       "      <td>desperately</td>\n",
       "      <td>yes</td>\n",
       "      <td>36</td>\n",
       "    </tr>\n",
       "    <tr>\n",
       "      <th>5</th>\n",
       "      <td>not at all</td>\n",
       "      <td>no</td>\n",
       "      <td>2771</td>\n",
       "    </tr>\n",
       "    <tr>\n",
       "      <th>6</th>\n",
       "      <td>not at all</td>\n",
       "      <td>sometimes</td>\n",
       "      <td>159</td>\n",
       "    </tr>\n",
       "    <tr>\n",
       "      <th>7</th>\n",
       "      <td>not at all</td>\n",
       "      <td>trying to quit</td>\n",
       "      <td>114</td>\n",
       "    </tr>\n",
       "    <tr>\n",
       "      <th>8</th>\n",
       "      <td>not at all</td>\n",
       "      <td>when drinking</td>\n",
       "      <td>13</td>\n",
       "    </tr>\n",
       "    <tr>\n",
       "      <th>9</th>\n",
       "      <td>not at all</td>\n",
       "      <td>yes</td>\n",
       "      <td>149</td>\n",
       "    </tr>\n",
       "    <tr>\n",
       "      <th>10</th>\n",
       "      <td>often</td>\n",
       "      <td>no</td>\n",
       "      <td>2921</td>\n",
       "    </tr>\n",
       "    <tr>\n",
       "      <th>11</th>\n",
       "      <td>often</td>\n",
       "      <td>sometimes</td>\n",
       "      <td>603</td>\n",
       "    </tr>\n",
       "    <tr>\n",
       "      <th>12</th>\n",
       "      <td>often</td>\n",
       "      <td>trying to quit</td>\n",
       "      <td>217</td>\n",
       "    </tr>\n",
       "    <tr>\n",
       "      <th>13</th>\n",
       "      <td>often</td>\n",
       "      <td>when drinking</td>\n",
       "      <td>482</td>\n",
       "    </tr>\n",
       "    <tr>\n",
       "      <th>14</th>\n",
       "      <td>often</td>\n",
       "      <td>yes</td>\n",
       "      <td>570</td>\n",
       "    </tr>\n",
       "    <tr>\n",
       "      <th>15</th>\n",
       "      <td>rarely</td>\n",
       "      <td>no</td>\n",
       "      <td>5080</td>\n",
       "    </tr>\n",
       "    <tr>\n",
       "      <th>16</th>\n",
       "      <td>rarely</td>\n",
       "      <td>sometimes</td>\n",
       "      <td>311</td>\n",
       "    </tr>\n",
       "    <tr>\n",
       "      <th>17</th>\n",
       "      <td>rarely</td>\n",
       "      <td>trying to quit</td>\n",
       "      <td>151</td>\n",
       "    </tr>\n",
       "    <tr>\n",
       "      <th>18</th>\n",
       "      <td>rarely</td>\n",
       "      <td>when drinking</td>\n",
       "      <td>119</td>\n",
       "    </tr>\n",
       "    <tr>\n",
       "      <th>19</th>\n",
       "      <td>rarely</td>\n",
       "      <td>yes</td>\n",
       "      <td>165</td>\n",
       "    </tr>\n",
       "    <tr>\n",
       "      <th>20</th>\n",
       "      <td>socially</td>\n",
       "      <td>no</td>\n",
       "      <td>31900</td>\n",
       "    </tr>\n",
       "    <tr>\n",
       "      <th>21</th>\n",
       "      <td>socially</td>\n",
       "      <td>sometimes</td>\n",
       "      <td>2563</td>\n",
       "    </tr>\n",
       "    <tr>\n",
       "      <th>22</th>\n",
       "      <td>socially</td>\n",
       "      <td>trying to quit</td>\n",
       "      <td>928</td>\n",
       "    </tr>\n",
       "    <tr>\n",
       "      <th>23</th>\n",
       "      <td>socially</td>\n",
       "      <td>when drinking</td>\n",
       "      <td>2314</td>\n",
       "    </tr>\n",
       "    <tr>\n",
       "      <th>24</th>\n",
       "      <td>socially</td>\n",
       "      <td>yes</td>\n",
       "      <td>1140</td>\n",
       "    </tr>\n",
       "    <tr>\n",
       "      <th>25</th>\n",
       "      <td>very often</td>\n",
       "      <td>no</td>\n",
       "      <td>178</td>\n",
       "    </tr>\n",
       "    <tr>\n",
       "      <th>26</th>\n",
       "      <td>very often</td>\n",
       "      <td>sometimes</td>\n",
       "      <td>61</td>\n",
       "    </tr>\n",
       "    <tr>\n",
       "      <th>27</th>\n",
       "      <td>very often</td>\n",
       "      <td>trying to quit</td>\n",
       "      <td>20</td>\n",
       "    </tr>\n",
       "    <tr>\n",
       "      <th>28</th>\n",
       "      <td>very often</td>\n",
       "      <td>when drinking</td>\n",
       "      <td>57</td>\n",
       "    </tr>\n",
       "    <tr>\n",
       "      <th>29</th>\n",
       "      <td>very often</td>\n",
       "      <td>yes</td>\n",
       "      <td>127</td>\n",
       "    </tr>\n",
       "  </tbody>\n",
       "</table>\n",
       "</div>"
      ],
      "text/plain": [
       "         drinks          smokes  count\n",
       "0   desperately              no    164\n",
       "1   desperately       sometimes     35\n",
       "2   desperately  trying to quit     21\n",
       "3   desperately   when drinking     33\n",
       "4   desperately             yes     36\n",
       "5    not at all              no   2771\n",
       "6    not at all       sometimes    159\n",
       "7    not at all  trying to quit    114\n",
       "8    not at all   when drinking     13\n",
       "9    not at all             yes    149\n",
       "10        often              no   2921\n",
       "11        often       sometimes    603\n",
       "12        often  trying to quit    217\n",
       "13        often   when drinking    482\n",
       "14        often             yes    570\n",
       "15       rarely              no   5080\n",
       "16       rarely       sometimes    311\n",
       "17       rarely  trying to quit    151\n",
       "18       rarely   when drinking    119\n",
       "19       rarely             yes    165\n",
       "20     socially              no  31900\n",
       "21     socially       sometimes   2563\n",
       "22     socially  trying to quit    928\n",
       "23     socially   when drinking   2314\n",
       "24     socially             yes   1140\n",
       "25   very often              no    178\n",
       "26   very often       sometimes     61\n",
       "27   very often  trying to quit     20\n",
       "28   very often   when drinking     57\n",
       "29   very often             yes    127"
      ]
     },
     "execution_count": 36,
     "metadata": {},
     "output_type": "execute_result"
    }
   ],
   "source": [
    "df.groupby(['drinks','smokes']).size().to_frame().reset_index().rename(columns={0:'count'})"
   ]
  },
  {
   "cell_type": "code",
   "execution_count": 37,
   "metadata": {},
   "outputs": [
    {
     "data": {
      "text/html": [
       "<div>\n",
       "<style scoped>\n",
       "    .dataframe tbody tr th:only-of-type {\n",
       "        vertical-align: middle;\n",
       "    }\n",
       "\n",
       "    .dataframe tbody tr th {\n",
       "        vertical-align: top;\n",
       "    }\n",
       "\n",
       "    .dataframe thead tr th {\n",
       "        text-align: left;\n",
       "    }\n",
       "\n",
       "    .dataframe thead tr:last-of-type th {\n",
       "        text-align: right;\n",
       "    }\n",
       "</style>\n",
       "<table border=\"1\" class=\"dataframe\">\n",
       "  <thead>\n",
       "    <tr>\n",
       "      <th></th>\n",
       "      <th></th>\n",
       "      <th colspan=\"5\" halign=\"left\">1</th>\n",
       "    </tr>\n",
       "    <tr>\n",
       "      <th></th>\n",
       "      <th>smokes</th>\n",
       "      <th>no</th>\n",
       "      <th>sometimes</th>\n",
       "      <th>trying to quit</th>\n",
       "      <th>when drinking</th>\n",
       "      <th>yes</th>\n",
       "    </tr>\n",
       "    <tr>\n",
       "      <th>dummy</th>\n",
       "      <th>drinks</th>\n",
       "      <th></th>\n",
       "      <th></th>\n",
       "      <th></th>\n",
       "      <th></th>\n",
       "      <th></th>\n",
       "    </tr>\n",
       "  </thead>\n",
       "  <tbody>\n",
       "    <tr>\n",
       "      <th rowspan=\"6\" valign=\"top\">1</th>\n",
       "      <th>desperately</th>\n",
       "      <td>0.307105</td>\n",
       "      <td>0.065541</td>\n",
       "      <td>0.039324</td>\n",
       "      <td>0.061795</td>\n",
       "      <td>0.067413</td>\n",
       "    </tr>\n",
       "    <tr>\n",
       "      <th>not at all</th>\n",
       "      <td>5.188944</td>\n",
       "      <td>0.297742</td>\n",
       "      <td>0.213475</td>\n",
       "      <td>0.024344</td>\n",
       "      <td>0.279016</td>\n",
       "    </tr>\n",
       "    <tr>\n",
       "      <th>often</th>\n",
       "      <td>5.469833</td>\n",
       "      <td>1.129171</td>\n",
       "      <td>0.406352</td>\n",
       "      <td>0.902588</td>\n",
       "      <td>1.067376</td>\n",
       "    </tr>\n",
       "    <tr>\n",
       "      <th>rarely</th>\n",
       "      <td>9.512752</td>\n",
       "      <td>0.582375</td>\n",
       "      <td>0.282761</td>\n",
       "      <td>0.222838</td>\n",
       "      <td>0.308977</td>\n",
       "    </tr>\n",
       "    <tr>\n",
       "      <th>socially</th>\n",
       "      <td>59.735590</td>\n",
       "      <td>4.799446</td>\n",
       "      <td>1.737763</td>\n",
       "      <td>4.333171</td>\n",
       "      <td>2.134752</td>\n",
       "    </tr>\n",
       "    <tr>\n",
       "      <th>very often</th>\n",
       "      <td>0.333321</td>\n",
       "      <td>0.114228</td>\n",
       "      <td>0.037452</td>\n",
       "      <td>0.106738</td>\n",
       "      <td>0.237819</td>\n",
       "    </tr>\n",
       "  </tbody>\n",
       "</table>\n",
       "</div>"
      ],
      "text/plain": [
       "                           1                                                 \n",
       "smokes                    no sometimes trying to quit when drinking       yes\n",
       "dummy drinks                                                                 \n",
       "1     desperately   0.307105  0.065541       0.039324      0.061795  0.067413\n",
       "      not at all    5.188944  0.297742       0.213475      0.024344  0.279016\n",
       "      often         5.469833  1.129171       0.406352      0.902588  1.067376\n",
       "      rarely        9.512752  0.582375       0.282761      0.222838  0.308977\n",
       "      socially     59.735590  4.799446       1.737763      4.333171  2.134752\n",
       "      very often    0.333321  0.114228       0.037452      0.106738  0.237819"
      ]
     },
     "execution_count": 37,
     "metadata": {},
     "output_type": "execute_result"
    }
   ],
   "source": [
    "df.assign(dummy=1).groupby(['dummy','drinks','smokes']).size().groupby(level=0) \\\n",
    ".apply(lambda x: 100 * x / x.sum()).to_frame().unstack()"
   ]
  },
  {
   "cell_type": "code",
   "execution_count": 38,
   "metadata": {},
   "outputs": [],
   "source": [
    "tmp = df.groupby(['drinks','smokes']).size().to_frame().reset_index().rename(columns={0:'count'})\n",
    "tmp['percentage_of_whole'] = tmp['count'].div(tmp['count'].sum(), axis=0)"
   ]
  },
  {
   "cell_type": "code",
   "execution_count": 39,
   "metadata": {},
   "outputs": [
    {
     "data": {
      "text/html": [
       "<div>\n",
       "<style scoped>\n",
       "    .dataframe tbody tr th:only-of-type {\n",
       "        vertical-align: middle;\n",
       "    }\n",
       "\n",
       "    .dataframe tbody tr th {\n",
       "        vertical-align: top;\n",
       "    }\n",
       "\n",
       "    .dataframe thead th {\n",
       "        text-align: right;\n",
       "    }\n",
       "</style>\n",
       "<table border=\"1\" class=\"dataframe\">\n",
       "  <thead>\n",
       "    <tr style=\"text-align: right;\">\n",
       "      <th></th>\n",
       "      <th>drinks</th>\n",
       "      <th>smokes</th>\n",
       "      <th>count</th>\n",
       "      <th>percentage_of_whole</th>\n",
       "    </tr>\n",
       "  </thead>\n",
       "  <tbody>\n",
       "    <tr>\n",
       "      <th>0</th>\n",
       "      <td>socially</td>\n",
       "      <td>sometimes</td>\n",
       "      <td>2563</td>\n",
       "      <td>0.047994</td>\n",
       "    </tr>\n",
       "    <tr>\n",
       "      <th>1</th>\n",
       "      <td>socially</td>\n",
       "      <td>when drinking</td>\n",
       "      <td>2314</td>\n",
       "      <td>0.043332</td>\n",
       "    </tr>\n",
       "    <tr>\n",
       "      <th>2</th>\n",
       "      <td>socially</td>\n",
       "      <td>yes</td>\n",
       "      <td>1140</td>\n",
       "      <td>0.021348</td>\n",
       "    </tr>\n",
       "    <tr>\n",
       "      <th>3</th>\n",
       "      <td>socially</td>\n",
       "      <td>trying to quit</td>\n",
       "      <td>928</td>\n",
       "      <td>0.017378</td>\n",
       "    </tr>\n",
       "    <tr>\n",
       "      <th>4</th>\n",
       "      <td>often</td>\n",
       "      <td>sometimes</td>\n",
       "      <td>603</td>\n",
       "      <td>0.011292</td>\n",
       "    </tr>\n",
       "    <tr>\n",
       "      <th>5</th>\n",
       "      <td>often</td>\n",
       "      <td>yes</td>\n",
       "      <td>570</td>\n",
       "      <td>0.010674</td>\n",
       "    </tr>\n",
       "    <tr>\n",
       "      <th>6</th>\n",
       "      <td>often</td>\n",
       "      <td>when drinking</td>\n",
       "      <td>482</td>\n",
       "      <td>0.009026</td>\n",
       "    </tr>\n",
       "    <tr>\n",
       "      <th>7</th>\n",
       "      <td>rarely</td>\n",
       "      <td>sometimes</td>\n",
       "      <td>311</td>\n",
       "      <td>0.005824</td>\n",
       "    </tr>\n",
       "    <tr>\n",
       "      <th>8</th>\n",
       "      <td>often</td>\n",
       "      <td>trying to quit</td>\n",
       "      <td>217</td>\n",
       "      <td>0.004064</td>\n",
       "    </tr>\n",
       "    <tr>\n",
       "      <th>9</th>\n",
       "      <td>rarely</td>\n",
       "      <td>yes</td>\n",
       "      <td>165</td>\n",
       "      <td>0.003090</td>\n",
       "    </tr>\n",
       "    <tr>\n",
       "      <th>10</th>\n",
       "      <td>not at all</td>\n",
       "      <td>sometimes</td>\n",
       "      <td>159</td>\n",
       "      <td>0.002977</td>\n",
       "    </tr>\n",
       "    <tr>\n",
       "      <th>11</th>\n",
       "      <td>rarely</td>\n",
       "      <td>trying to quit</td>\n",
       "      <td>151</td>\n",
       "      <td>0.002828</td>\n",
       "    </tr>\n",
       "    <tr>\n",
       "      <th>12</th>\n",
       "      <td>not at all</td>\n",
       "      <td>yes</td>\n",
       "      <td>149</td>\n",
       "      <td>0.002790</td>\n",
       "    </tr>\n",
       "    <tr>\n",
       "      <th>13</th>\n",
       "      <td>very often</td>\n",
       "      <td>yes</td>\n",
       "      <td>127</td>\n",
       "      <td>0.002378</td>\n",
       "    </tr>\n",
       "    <tr>\n",
       "      <th>14</th>\n",
       "      <td>rarely</td>\n",
       "      <td>when drinking</td>\n",
       "      <td>119</td>\n",
       "      <td>0.002228</td>\n",
       "    </tr>\n",
       "    <tr>\n",
       "      <th>15</th>\n",
       "      <td>not at all</td>\n",
       "      <td>trying to quit</td>\n",
       "      <td>114</td>\n",
       "      <td>0.002135</td>\n",
       "    </tr>\n",
       "    <tr>\n",
       "      <th>16</th>\n",
       "      <td>very often</td>\n",
       "      <td>sometimes</td>\n",
       "      <td>61</td>\n",
       "      <td>0.001142</td>\n",
       "    </tr>\n",
       "    <tr>\n",
       "      <th>17</th>\n",
       "      <td>very often</td>\n",
       "      <td>when drinking</td>\n",
       "      <td>57</td>\n",
       "      <td>0.001067</td>\n",
       "    </tr>\n",
       "    <tr>\n",
       "      <th>18</th>\n",
       "      <td>desperately</td>\n",
       "      <td>yes</td>\n",
       "      <td>36</td>\n",
       "      <td>0.000674</td>\n",
       "    </tr>\n",
       "    <tr>\n",
       "      <th>19</th>\n",
       "      <td>desperately</td>\n",
       "      <td>sometimes</td>\n",
       "      <td>35</td>\n",
       "      <td>0.000655</td>\n",
       "    </tr>\n",
       "    <tr>\n",
       "      <th>20</th>\n",
       "      <td>desperately</td>\n",
       "      <td>when drinking</td>\n",
       "      <td>33</td>\n",
       "      <td>0.000618</td>\n",
       "    </tr>\n",
       "    <tr>\n",
       "      <th>21</th>\n",
       "      <td>desperately</td>\n",
       "      <td>trying to quit</td>\n",
       "      <td>21</td>\n",
       "      <td>0.000393</td>\n",
       "    </tr>\n",
       "    <tr>\n",
       "      <th>22</th>\n",
       "      <td>very often</td>\n",
       "      <td>trying to quit</td>\n",
       "      <td>20</td>\n",
       "      <td>0.000375</td>\n",
       "    </tr>\n",
       "    <tr>\n",
       "      <th>23</th>\n",
       "      <td>not at all</td>\n",
       "      <td>when drinking</td>\n",
       "      <td>13</td>\n",
       "      <td>0.000243</td>\n",
       "    </tr>\n",
       "  </tbody>\n",
       "</table>\n",
       "</div>"
      ],
      "text/plain": [
       "         drinks          smokes  count  percentage_of_whole\n",
       "0      socially       sometimes   2563             0.047994\n",
       "1      socially   when drinking   2314             0.043332\n",
       "2      socially             yes   1140             0.021348\n",
       "3      socially  trying to quit    928             0.017378\n",
       "4         often       sometimes    603             0.011292\n",
       "5         often             yes    570             0.010674\n",
       "6         often   when drinking    482             0.009026\n",
       "7        rarely       sometimes    311             0.005824\n",
       "8         often  trying to quit    217             0.004064\n",
       "9        rarely             yes    165             0.003090\n",
       "10   not at all       sometimes    159             0.002977\n",
       "11       rarely  trying to quit    151             0.002828\n",
       "12   not at all             yes    149             0.002790\n",
       "13   very often             yes    127             0.002378\n",
       "14       rarely   when drinking    119             0.002228\n",
       "15   not at all  trying to quit    114             0.002135\n",
       "16   very often       sometimes     61             0.001142\n",
       "17   very often   when drinking     57             0.001067\n",
       "18  desperately             yes     36             0.000674\n",
       "19  desperately       sometimes     35             0.000655\n",
       "20  desperately   when drinking     33             0.000618\n",
       "21  desperately  trying to quit     21             0.000393\n",
       "22   very often  trying to quit     20             0.000375\n",
       "23   not at all   when drinking     13             0.000243"
      ]
     },
     "execution_count": 39,
     "metadata": {},
     "output_type": "execute_result"
    }
   ],
   "source": [
    "tmp[tmp['smokes']!='no'].sort_values('percentage_of_whole',ascending=False).reset_index(drop=True)"
   ]
  },
  {
   "cell_type": "code",
   "execution_count": 40,
   "metadata": {},
   "outputs": [],
   "source": [
    "#tmp['percentage_of_whole'] = pd.Series([\"{:.2f}%\".format(i * 100) for i in tmp['percentage_of_whole']], index=tmp.index)\n",
    "#pd.Series([\"{0:.2f}%\".format(val * 100) for val in df['var3']], index = df.index)"
   ]
  },
  {
   "cell_type": "code",
   "execution_count": 41,
   "metadata": {},
   "outputs": [],
   "source": [
    "#tmp['percentage_of_whole']"
   ]
  },
  {
   "cell_type": "code",
   "execution_count": 42,
   "metadata": {},
   "outputs": [
    {
     "data": {
      "image/png": "[encoded data removed]",
      "text/plain": [
       "<Figure size 864x432 with 1 Axes>"
      ]
     },
     "metadata": {
      "needs_background": "light"
     },
     "output_type": "display_data"
    }
   ],
   "source": [
    "df_pivot = pd.pivot_table(tmp,\n",
    "values=\"percentage_of_whole\",\n",
    "index=\"drinks\",\n",
    "columns=\"smokes\",\n",
    "#aggfunc=np.sum\n",
    ")\n",
    "\n",
    "# Plot a bar chart using the DF\n",
    "ax = df_pivot.plot(kind=\"bar\")\n",
    "# Get a Matplotlib figure from the axes object for formatting purposes\n",
    "fig = ax.get_figure()\n",
    "# Change the plot dimensions (width, height)\n",
    "fig.set_size_inches(12, 6)\n",
    "# Change the axes labels\n",
    "ax.set_xlabel(\"Drinks\")\n",
    "ax.set_ylabel(\"Count as a Percentage of Entire Data Set\")\n",
    "ax.set_title('Smoker/Drinker Types as Percentage of Entire Data Sample')\n",
    "# Change y axis to be a percentage\n",
    "fig.gca().yaxis.set_major_formatter(mtick.PercentFormatter(1.0))"
   ]
  },
  {
   "cell_type": "code",
   "execution_count": 43,
   "metadata": {
    "scrolled": true
   },
   "outputs": [
    {
     "data": {
      "text/plain": [
       "Text(0.5, 1.0, 'Count of Drinker/Smoker Types')"
      ]
     },
     "execution_count": 43,
     "metadata": {},
     "output_type": "execute_result"
    },
    {
     "data": {
      "image/png": "[encoded data removed]",
      "text/plain": [
       "<Figure size 864x432 with 1 Axes>"
      ]
     },
     "metadata": {
      "needs_background": "light"
     },
     "output_type": "display_data"
    }
   ],
   "source": [
    "df_pivot = pd.pivot_table(df.groupby(['drinks','smokes']).size().to_frame().reset_index().rename(columns={0:'count'}),\n",
    "values=\"count\",\n",
    "index=\"drinks\",\n",
    "columns=\"smokes\",\n",
    "aggfunc=np.sum\n",
    ")\n",
    "\n",
    "# Plot a bar chart using the DF\n",
    "ax = df_pivot.plot(kind=\"bar\")\n",
    "# Get a Matplotlib figure from the axes object for formatting purposes\n",
    "fig = ax.get_figure()\n",
    "# Change the plot dimensions (width, height)\n",
    "fig.set_size_inches(12, 6)\n",
    "# Change the axes labels\n",
    "ax.set_xlabel(\"Drinks\")\n",
    "ax.set_ylabel(\"Count\")\n",
    "ax.set_title('Count of Drinker/Smoker Types')"
   ]
  },
  {
   "cell_type": "code",
   "execution_count": 44,
   "metadata": {},
   "outputs": [
    {
     "data": {
      "image/png": "[encoded data removed]",
      "text/plain": [
       "<Figure size 432x288 with 1 Axes>"
      ]
     },
     "metadata": {
      "needs_background": "light"
     },
     "output_type": "display_data"
    }
   ],
   "source": [
    "df.groupby(['drinks','smokes']).size().unstack().plot(kind='bar',stacked=True) #doing stacked = False makes the same chart as above\n",
    "plt.title('Stacked Bar Chart Showing Smoker/Drinker Types')\n",
    "plt.show()"
   ]
  },
  {
   "cell_type": "markdown",
   "metadata": {},
   "source": [
    "### Augment your Data\n",
    "\n",
    "\n",
    "In order to answer the question you've formulated, you will probably need to create some new columns in the DataFrame. This is especially true because so much of our data here is categorical (i.e. `diet` consists of the options `vegan`, `vegetarian`, `anything`, etc. instead of numerical values).\n",
    "\n",
    "\n",
    "Categorical data is great to use as labels, but we want to create some numerical data as well to use for features.\n",
    "\n",
    "\n",
    "For our question about Zodiac signs, we wanted to transform the `drinks` column into numerical data. We used:\n",
    "\n",
    "\n",
    "```\n",
    "drink_mapping = {\"not at all\": 0, \"rarely\": 1, \"socially\": 2, \"often\": 3, \"very often\": 4, \"desperately\": 5}\n",
    "\n",
    "\n",
    "all_data[\"drinks_code\"] = all_data.drinks.map(drink_mapping)\n",
    "```\n",
    "\n",
    "\n",
    "These lines of code created a new column called 'drinks_code' that mapped the following `drinks` values to these numbers:\n",
    "\n",
    "\n",
    "| drinks      | drinks_code |\n",
    "|-------------|-------------|\n",
    "| not at all  | 0           |\n",
    "| rarely      | 1           |\n",
    "| socially    | 2           |\n",
    "| often       | 3           |\n",
    "| very often  | 4           |\n",
    "| desperately | 5           |\n",
    "\n",
    "\n",
    "We did the same for `smokes` and `drugs`.\n",
    "\n",
    "\n",
    "We also wanted some numerical data about the short answer essays. We combined them all into one string, took out the `NaN`s, and then created a new column called `essay_len`:\n",
    "\n",
    "\n",
    "```\n",
    "essay_cols = [\"essay0\",\"essay1\",\"essay2\",\"essay3\",\"essay4\",\"essay5\",\"essay6\",\"essay7\",\"essay8\",\"essay9\"]\n",
    "\n",
    "\n",
    "# Removing the NaNs\n",
    "all_essays = all_data[essay_cols].replace(np.nan, '', regex=True)\n",
    "# Combining the essays\n",
    "all_essays = all_essays[essay_cols].apply(lambda x: ' '.join(x), axis=1)\n",
    "\n",
    "\n",
    "all_data[\"essay_len\"] = all_essays.apply(lambda x: len(x)))\n",
    "```\n",
    "\n",
    "\n",
    "We also created a column with average word length and a column with the frequency of the words \"I\" or \"me\" appearing in the essays.\n"
   ]
  },
  {
   "cell_type": "code",
   "execution_count": 45,
   "metadata": {},
   "outputs": [],
   "source": [
    "essay_cols = [\"essay0\",\"essay1\",\"essay2\",\"essay3\",\"essay4\",\"essay5\",\"essay6\",\"essay7\",\"essay8\",\"essay9\"]\n",
    "\n",
    "# Removing the NaNs and changing them to 'blank' because if they were string '' then there is no length and it screws things up below\n",
    "all_essays = df[essay_cols].replace(np.nan, 'blank', regex=True)\n",
    "# Combining the essays\n",
    "all_essays = all_essays[essay_cols].apply(lambda x: ' '.join(x), axis=1)\n",
    "\n",
    "df[\"essay_len\"] = all_essays.apply(lambda x: len(x)) #length in characters"
   ]
  },
  {
   "cell_type": "code",
   "execution_count": 46,
   "metadata": {},
   "outputs": [],
   "source": [
    "all_essays.columns=['text']"
   ]
  },
  {
   "cell_type": "code",
   "execution_count": 47,
   "metadata": {},
   "outputs": [],
   "source": [
    "all_essays = pd.DataFrame(all_essays, columns=['text'])"
   ]
  },
  {
   "cell_type": "code",
   "execution_count": 48,
   "metadata": {},
   "outputs": [],
   "source": [
    "all_essays['words_count'] = all_essays.apply(lambda words: len(words['text'].split()), axis=1) #amount of words"
   ]
  },
  {
   "cell_type": "code",
   "execution_count": 49,
   "metadata": {},
   "outputs": [],
   "source": [
    "all_essays['words']  = all_essays.apply(lambda words: words['text'].split(), axis=1) #splitting words\n",
    "#average length of words\n",
    "all_essays['average_length_of_words'] = all_essays.apply(lambda average_length_of_words: sum(map(len, average_length_of_words['words']))/len(average_length_of_words['words']), axis=1)"
   ]
  },
  {
   "cell_type": "code",
   "execution_count": 50,
   "metadata": {},
   "outputs": [
    {
     "data": {
      "text/plain": [
       "0"
      ]
     },
     "execution_count": 50,
     "metadata": {},
     "output_type": "execute_result"
    }
   ],
   "source": [
    "len(all_essays[all_essays['average_length_of_words'].isna()])"
   ]
  },
  {
   "cell_type": "code",
   "execution_count": 51,
   "metadata": {},
   "outputs": [],
   "source": [
    "#Drink map code, signs map code, serious_about_religion (0,1)"
   ]
  },
  {
   "cell_type": "code",
   "execution_count": 52,
   "metadata": {},
   "outputs": [],
   "source": [
    "df['diet'].fillna('unknown',inplace=True)\n",
    "df['education'].fillna('unknown',inplace=True)\n",
    "df['sign_selection'].fillna('unknown',inplace=True)\n",
    "df['religion'].fillna('unknown',inplace=True)\n",
    "df['drinks'].fillna('unknown',inplace=True)\n",
    "df['smokes'].fillna('unknown',inplace=True)"
   ]
  },
  {
   "cell_type": "code",
   "execution_count": 53,
   "metadata": {},
   "outputs": [],
   "source": [
    "#drink_mapping = {\"not at all\": 0, \"rarely\": 1, \"socially\": 2, \"often\": 3, \"very often\": 4, \"desperately\": 5}\n",
    "drinks_mapping = {k: v for v, k in enumerate(df['drinks'].value_counts().reset_index()['index'])}\n",
    "df[\"drinks_code\"] = df['drinks'].map(drinks_mapping)"
   ]
  },
  {
   "cell_type": "code",
   "execution_count": 54,
   "metadata": {},
   "outputs": [],
   "source": [
    "#signs_mapping = {k: v for v, k in enumerate(signs_selection)}\n",
    "signs_mapping = {k: v for v, k in enumerate(df['sign'].value_counts().reset_index()['index'])}\n",
    "df[\"signs_code\"] = df['sign_selection'].map(signs_mapping)"
   ]
  },
  {
   "cell_type": "code",
   "execution_count": 55,
   "metadata": {},
   "outputs": [
    {
     "data": {
      "text/plain": [
       "socially       41780\n",
       "rarely          5957\n",
       "often           5164\n",
       "not at all      3267\n",
       "unknown         2985\n",
       "very often       471\n",
       "desperately      322\n",
       "Name: drinks, dtype: int64"
      ]
     },
     "execution_count": 55,
     "metadata": {},
     "output_type": "execute_result"
    }
   ],
   "source": [
    "df['drinks'].value_counts()"
   ]
  },
  {
   "cell_type": "code",
   "execution_count": 56,
   "metadata": {},
   "outputs": [],
   "source": [
    "diet_mapping = {k: v for v, k in enumerate(df['diet'].value_counts().reset_index()['index'])}\n",
    "df['diet_code'] = df['diet'].map(diet_mapping)"
   ]
  },
  {
   "cell_type": "code",
   "execution_count": 57,
   "metadata": {},
   "outputs": [],
   "source": [
    "smokes_mapping = {k: v for v, k in enumerate(df['smokes'].value_counts().reset_index()['index'])}\n",
    "df['smokes_code'] = df['smokes'].map(smokes_mapping)"
   ]
  },
  {
   "cell_type": "code",
   "execution_count": 58,
   "metadata": {},
   "outputs": [],
   "source": [
    "education_mapping = {k: v for v, k in enumerate(df['education'].value_counts().reset_index()['index'])}\n",
    "df['education_code'] = df['education'].map(education_mapping)"
   ]
  },
  {
   "cell_type": "code",
   "execution_count": 59,
   "metadata": {},
   "outputs": [],
   "source": [
    "#serious about religion or not. the idea being there are many people serious about religion and that effects the other actions (diet, smoking, drinking)"
   ]
  },
  {
   "cell_type": "code",
   "execution_count": 60,
   "metadata": {},
   "outputs": [],
   "source": [
    "df['serious_about_religion'] = np.where(((df['religion'] == 'catholicism')\n",
    "                                        | (df['religion']=='judaism') \n",
    "                                        | (df['religion']=='christianity') \n",
    "                                        | (df['religion']=='buddhism')\n",
    "                                        | (df['religion']=='hinduism')\n",
    "                                        | (df['religion']=='islam'))\n",
    "                                        | (df['religion'].str.contains(\"somewhat|very\")) & (df['religion'].str.contains((\"catholicism|judaism|christianity|buddhism|hinduism|islam\"))),\n",
    "                                        1, 0)"
   ]
  },
  {
   "cell_type": "code",
   "execution_count": 61,
   "metadata": {},
   "outputs": [],
   "source": [
    "#serious abotu astrology\n",
    "df['serious_about_astrology'] = np.where(((df['sign'] == 'leo')\n",
    "                                        | (df['sign']=='libra') \n",
    "                                        | (df['sign']=='cancer') \n",
    "                                        | (df['sign']=='virgo')\n",
    "                                        | (df['sign']=='scorpio')\n",
    "                                        | (df['sign']=='gemini')\n",
    "                                        | (df['sign']=='taurus')\n",
    "                                        | (df['sign']=='aries')\n",
    "                                        | (df['sign']=='pisces')\n",
    "                                        | (df['sign']=='aquarius')\n",
    "                                        | (df['sign']=='sagittarius')\n",
    "                                        | (df['sign']=='capricorn'))\n",
    "                                        | (df['sign'].str.contains(\"fun|matters a lot\")),\n",
    "                                        1, 0)"
   ]
  },
  {
   "cell_type": "code",
   "execution_count": 62,
   "metadata": {},
   "outputs": [
    {
     "data": {
      "text/plain": [
       "0    52776\n",
       "1     7170\n",
       "Name: serious_about_religion, dtype: int64"
      ]
     },
     "execution_count": 62,
     "metadata": {},
     "output_type": "execute_result"
    }
   ],
   "source": [
    "df['serious_about_religion'].value_counts()"
   ]
  },
  {
   "cell_type": "code",
   "execution_count": 63,
   "metadata": {},
   "outputs": [
    {
     "data": {
      "text/plain": [
       "unknown                                       20226\n",
       "agnosticism                                    2724\n",
       "other                                          2691\n",
       "agnosticism but not too serious about it       2636\n",
       "agnosticism and laughing about it              2496\n",
       "catholicism but not too serious about it       2318\n",
       "atheism                                        2175\n",
       "other and laughing about it                    2119\n",
       "atheism and laughing about it                  2074\n",
       "christianity                                   1957\n",
       "christianity but not too serious about it      1952\n",
       "other but not too serious about it             1554\n",
       "judaism but not too serious about it           1517\n",
       "atheism but not too serious about it           1318\n",
       "catholicism                                    1064\n",
       "christianity and somewhat serious about it      927\n",
       "atheism and somewhat serious about it           848\n",
       "other and somewhat serious about it             846\n",
       "catholicism and laughing about it               726\n",
       "judaism and laughing about it                   681\n",
       "buddhism but not too serious about it           650\n",
       "agnosticism and somewhat serious about it       642\n",
       "judaism                                         612\n",
       "christianity and very serious about it          578\n",
       "atheism and very serious about it               570\n",
       "catholicism and somewhat serious about it       548\n",
       "other and very serious about it                 533\n",
       "buddhism and laughing about it                  466\n",
       "buddhism                                        403\n",
       "christianity and laughing about it              373\n",
       "buddhism and somewhat serious about it          359\n",
       "agnosticism and very serious about it           314\n",
       "judaism and somewhat serious about it           266\n",
       "hinduism but not too serious about it           227\n",
       "hinduism                                        107\n",
       "catholicism and very serious about it           102\n",
       "buddhism and very serious about it               70\n",
       "hinduism and somewhat serious about it           58\n",
       "islam                                            48\n",
       "hinduism and laughing about it                   44\n",
       "islam but not too serious about it               40\n",
       "islam and somewhat serious about it              22\n",
       "judaism and very serious about it                22\n",
       "islam and laughing about it                      16\n",
       "hinduism and very serious about it               14\n",
       "islam and very serious about it                  13\n",
       "Name: religion, dtype: int64"
      ]
     },
     "execution_count": 63,
     "metadata": {},
     "output_type": "execute_result"
    }
   ],
   "source": [
    "df['religion'].value_counts()"
   ]
  },
  {
   "cell_type": "code",
   "execution_count": 64,
   "metadata": {},
   "outputs": [],
   "source": [
    "#merge essays words count and average length of words columns into df. then run the np.where one\n",
    "finaldf = pd.merge(df, all_essays, left_index=True, right_index=True)\n",
    "#average_length of words > than mean\n",
    "finaldf['uses_longer_than_average_words']= np.where(finaldf['average_length_of_words'] > finaldf['average_length_of_words'].mean(), 1, 0)"
   ]
  },
  {
   "cell_type": "code",
   "execution_count": 65,
   "metadata": {},
   "outputs": [
    {
     "data": {
      "text/plain": [
       "graduated from college/university    23959\n",
       "graduated from masters program        8961\n",
       "unknown                               6628\n",
       "working on college/university         5712\n",
       "working on masters program            1683\n",
       "graduated from two-year college       1531\n",
       "graduated from high school            1428\n",
       "graduated from ph.d program           1272\n",
       "graduated from law school             1122\n",
       "working on two-year college           1074\n",
       "dropped out of college/university      995\n",
       "working on ph.d program                983\n",
       "college/university                     801\n",
       "graduated from space camp              657\n",
       "dropped out of space camp              523\n",
       "graduated from med school              446\n",
       "working on space camp                  445\n",
       "working on law school                  269\n",
       "two-year college                       222\n",
       "working on med school                  212\n",
       "dropped out of two-year college        191\n",
       "dropped out of masters program         140\n",
       "masters program                        136\n",
       "dropped out of ph.d program            127\n",
       "dropped out of high school             102\n",
       "high school                             96\n",
       "working on high school                  87\n",
       "space camp                              58\n",
       "ph.d program                            26\n",
       "law school                              19\n",
       "dropped out of law school               18\n",
       "dropped out of med school               12\n",
       "med school                              11\n",
       "Name: education, dtype: int64"
      ]
     },
     "execution_count": 65,
     "metadata": {},
     "output_type": "execute_result"
    }
   ],
   "source": [
    "finaldf['education'].value_counts()"
   ]
  },
  {
   "cell_type": "code",
   "execution_count": 66,
   "metadata": {},
   "outputs": [],
   "source": [
    "#categories for each person who is serious about religion and their religion and those who are not serious at all\n",
    "#this matters because those who are serious about religion tend to be attracted to others' of their religion\n",
    "#never got too much further with this"
   ]
  },
  {
   "cell_type": "code",
   "execution_count": 67,
   "metadata": {},
   "outputs": [],
   "source": [
    "religions = ['catholicism','judaism','christianity','buddhism','hinduism','islam']\n",
    "less_serious_words = ['laughing','not too']"
   ]
  },
  {
   "cell_type": "code",
   "execution_count": 68,
   "metadata": {},
   "outputs": [
    {
     "data": {
      "text/html": [
       "<div>\n",
       "<style scoped>\n",
       "    .dataframe tbody tr th:only-of-type {\n",
       "        vertical-align: middle;\n",
       "    }\n",
       "\n",
       "    .dataframe tbody tr th {\n",
       "        vertical-align: top;\n",
       "    }\n",
       "\n",
       "    .dataframe thead th {\n",
       "        text-align: right;\n",
       "    }\n",
       "</style>\n",
       "<table border=\"1\" class=\"dataframe\">\n",
       "  <thead>\n",
       "    <tr style=\"text-align: right;\">\n",
       "      <th></th>\n",
       "      <th>index</th>\n",
       "      <th>age</th>\n",
       "      <th>body_type</th>\n",
       "      <th>diet</th>\n",
       "      <th>drinks</th>\n",
       "      <th>drugs</th>\n",
       "      <th>education</th>\n",
       "      <th>essay0</th>\n",
       "      <th>essay1</th>\n",
       "      <th>essay2</th>\n",
       "      <th>...</th>\n",
       "      <th>sign_format_type</th>\n",
       "      <th>sign_selection</th>\n",
       "      <th>essay_len</th>\n",
       "      <th>drinks_code</th>\n",
       "      <th>signs_code</th>\n",
       "      <th>diet_code</th>\n",
       "      <th>smokes_code</th>\n",
       "      <th>education_code</th>\n",
       "      <th>serious_about_religion</th>\n",
       "      <th>serious_about_astrology</th>\n",
       "    </tr>\n",
       "  </thead>\n",
       "  <tbody>\n",
       "  </tbody>\n",
       "</table>\n",
       "<p>0 rows × 42 columns</p>\n",
       "</div>"
      ],
      "text/plain": [
       "Empty DataFrame\n",
       "Columns: [index, age, body_type, diet, drinks, drugs, education, essay0, essay1, essay2, essay3, essay4, essay5, essay6, essay7, essay8, essay9, ethnicity, height, income, job, last_online, location, offspring, orientation, pets, religion, sex, sign, smokes, speaks, status, sign_format_type, sign_selection, essay_len, drinks_code, signs_code, diet_code, smokes_code, education_code, serious_about_religion, serious_about_astrology]\n",
       "Index: []\n",
       "\n",
       "[0 rows x 42 columns]"
      ]
     },
     "execution_count": 68,
     "metadata": {},
     "output_type": "execute_result"
    }
   ],
   "source": [
    "df[df['sign_selection'].isna()]"
   ]
  },
  {
   "cell_type": "markdown",
   "metadata": {},
   "source": [
    "### Normalize your Data!\n",
    "\n",
    "\n",
    "In order to get accurate results, we should make sure our numerical data all has the same weight.\n",
    "\n",
    "\n",
    "For our Zodiac features, we used:\n",
    "\n",
    "\n",
    "```\n",
    "feature_data = all_data[['smokes_code', 'drinks_code', 'drugs_code', 'essay_len', 'avg_word_length']]\n",
    "\n",
    "\n",
    "x = feature_data.values\n",
    "min_max_scaler = preprocessing.MinMaxScaler()\n",
    "x_scaled = min_max_scaler.fit_transform(x)\n",
    "\n",
    "\n",
    "feature_data = pd.DataFrame(x_scaled, columns=feature_data.columns)\n",
    "```"
   ]
  },
  {
   "cell_type": "markdown",
   "metadata": {},
   "source": [
    "**we will have the following features**\n",
    "- signs (map code number)\n",
    "- serious about astrology (0,1)\n",
    "- drinks (map code number)\n",
    "- serious about religion (0,1)\n",
    "- diet code (map code number)\n",
    "- smokes code (map code number)\n",
    "- education code (map code number)\n",
    "\n",
    "**target is below**\n",
    "- uses_longer_than_average_words (0,1)"
   ]
  },
  {
   "cell_type": "code",
   "execution_count": 69,
   "metadata": {},
   "outputs": [
    {
     "data": {
      "text/plain": [
       "Index(['index', 'age', 'body_type', 'diet', 'drinks', 'drugs', 'education',\n",
       "       'essay0', 'essay1', 'essay2', 'essay3', 'essay4', 'essay5', 'essay6',\n",
       "       'essay7', 'essay8', 'essay9', 'ethnicity', 'height', 'income', 'job',\n",
       "       'last_online', 'location', 'offspring', 'orientation', 'pets',\n",
       "       'religion', 'sex', 'sign', 'smokes', 'speaks', 'status',\n",
       "       'sign_format_type', 'sign_selection', 'essay_len', 'drinks_code',\n",
       "       'signs_code', 'diet_code', 'smokes_code', 'education_code',\n",
       "       'serious_about_religion', 'serious_about_astrology', 'text',\n",
       "       'words_count', 'words', 'average_length_of_words',\n",
       "       'uses_longer_than_average_words'],\n",
       "      dtype='object')"
      ]
     },
     "execution_count": 69,
     "metadata": {},
     "output_type": "execute_result"
    }
   ],
   "source": [
    "finaldf.columns"
   ]
  },
  {
   "cell_type": "code",
   "execution_count": 70,
   "metadata": {},
   "outputs": [],
   "source": [
    "feature_data = finaldf[['signs_code','serious_about_astrology','drinks_code','serious_about_religion','diet_code','smokes_code','education_code']]\n",
    "x = feature_data.values\n",
    "min_max_scaler = MinMaxScaler()\n",
    "x_scaled = min_max_scaler.fit_transform(x)\n",
    "feature_data = pd.DataFrame(x_scaled, columns = feature_data.columns)"
   ]
  },
  {
   "cell_type": "code",
   "execution_count": 71,
   "metadata": {},
   "outputs": [
    {
     "data": {
      "text/plain": [
       "59946"
      ]
     },
     "execution_count": 71,
     "metadata": {},
     "output_type": "execute_result"
    }
   ],
   "source": [
    "len(feature_data[~feature_data['signs_code'].isna()])"
   ]
  },
  {
   "cell_type": "code",
   "execution_count": 72,
   "metadata": {},
   "outputs": [
    {
     "data": {
      "text/plain": [
       "0"
      ]
     },
     "execution_count": 72,
     "metadata": {},
     "output_type": "execute_result"
    }
   ],
   "source": [
    "len(feature_data[feature_data['signs_code'].isna()])"
   ]
  },
  {
   "cell_type": "markdown",
   "metadata": {},
   "source": [
    "#### Correlation Matrix to Determine which Features Inc as others Inc, Dec as others Dec, or Do the Opposite to Each Other"
   ]
  },
  {
   "cell_type": "code",
   "execution_count": 93,
   "metadata": {},
   "outputs": [
    {
     "data": {
      "image/png": "[encoded data removed]",
      "text/plain": [
       "<Figure size 1440x2016 with 2 Axes>"
      ]
     },
     "metadata": {
      "needs_background": "light"
     },
     "output_type": "display_data"
    }
   ],
   "source": [
    "correlation_matrix = feature_data.corr().round(2)\n",
    "\n",
    "fig = plt.figure(1, figsize=(20, 28))\n",
    "ax = sns.heatmap(data=correlation_matrix, annot=True)\n",
    "plt.show()"
   ]
  },
  {
   "cell_type": "markdown",
   "metadata": {},
   "source": [
    "### Use Classification Techniques\n",
    "\n",
    "\n",
    "We have learned how to perform classification in a few different ways.\n",
    "\n",
    "\n",
    "- We learned about K-Nearest Neighbors by exploring IMDB ratings of popular movies \n",
    "- We learned about Support Vector Machines by exploring baseball statistics\n",
    "- We learned about Naive Bayes by exploring Amazon Reviews\n",
    "\n",
    "\n",
    "Some questions we used classification to tackle were:\n",
    "\n",
    "\n",
    "- Can we predict sex with education level and income??\n",
    "- Can we predict education level with essay text word counts?"
   ]
  },
  {
   "cell_type": "markdown",
   "metadata": {},
   "source": [
    "#### K nearest neighbors"
   ]
  },
  {
   "cell_type": "code",
   "execution_count": 143,
   "metadata": {},
   "outputs": [],
   "source": [
    "largest = {'accuracy':0, 'recall':0, 'precision':0, 'f1score':0, 'predictions_data':0, 'y_test_data':0, 'k':1, 'columns':'columns', 'i':1}\n",
    "scores=[]\n",
    "columns=[]\n",
    "k_list = []\n",
    "number_list=[]\n",
    "recall_list=[]\n",
    "precision_list=[]\n",
    "f1score_list=[]\n",
    "predictions_list=[]\n",
    "y_test_data=[]\n",
    "for k in range(1,10):\n",
    "    for i in range(1,20):\n",
    "        for number in range(4,5):\n",
    "            \n",
    "            data = feature_data\n",
    "            data = data.sample(n=number,axis='columns')\n",
    "            labels = finaldf[['uses_longer_than_average_words']]\n",
    "            #scaled_data = scale(data, axis=0)\n",
    "            #x_train, x_test, y_train, y_test\n",
    "            #random state =1 means that the split will be the same every time this is executed\n",
    "            train_data, test_data, train_labels, test_labels = train_test_split(data, \n",
    "                                                                    labels, \n",
    "                                                                    test_size = 0.2, \n",
    "                                                                    random_state = 1)\n",
    "            #y_test_data.append(test_labels)\n",
    "            classifier = KNeighborsClassifier(n_neighbors = k)\n",
    "            classifier.fit(train_data, np.ravel(train_labels, order='C'))\n",
    "            \n",
    "            score = classifier.score(test_data, test_labels)\n",
    "            scores.append(score)\n",
    "            #add in functionality for precision, etc by first adding a list at the top and adding to dictionary then adding additions to the conditional statement below\n",
    "            predictions = classifier.predict(test_data)\n",
    "            #predictions_list.append(predictions)\n",
    "            #score mentioned above is \"accuracy score\"\n",
    "            recall = recall_score(test_labels,predictions)\n",
    "            recall_list.append(recall_score(test_labels, predictions))\n",
    "            precision = precision_score(test_labels,predictions)\n",
    "            precision_list.append(precision_score(test_labels, predictions))\n",
    "            f1score = f1_score(test_labels, predictions)\n",
    "            f1score_list.append(f1_score(test_labels, predictions))\n",
    "            \n",
    "            columns.append([colname for colname in data.columns])\n",
    "            k_list.append(k)\n",
    "            number_list.append(number)\n",
    "\n",
    "            if (score > largest['accuracy']):\n",
    "                largest['accuracy'] = score\n",
    "                largest['recall'] = recall\n",
    "                largest['precision'] = precision\n",
    "                largest['f1score'] = f1score\n",
    "                largest['predictions_data'] = predictions\n",
    "                largest['y_test_data'] = test_labels\n",
    "                largest['k'] = k\n",
    "                largest['columns'] = data.columns\n",
    "                largest['i'] = i\n",
    "                "
   ]
  },
  {
   "cell_type": "code",
   "execution_count": 144,
   "metadata": {
    "scrolled": true
   },
   "outputs": [
    {
     "data": {
      "text/plain": [
       "{'accuracy': 0.611509591326105,\n",
       " 'recall': 0.06224246367382347,\n",
       " 'precision': 0.46215780998389694,\n",
       " 'f1score': 0.10970948012232415,\n",
       " 'predictions_data': array([0, 0, 0, ..., 0, 0, 0]),\n",
       " 'y_test_data':        uses_longer_than_average_words\n",
       " 16912                               0\n",
       " 13297                               0\n",
       " 2604                                0\n",
       " 39269                               0\n",
       " 12225                               0\n",
       " ...                               ...\n",
       " 55349                               1\n",
       " 12471                               1\n",
       " 27690                               1\n",
       " 44786                               0\n",
       " 14455                               0\n",
       " \n",
       " [11990 rows x 1 columns],\n",
       " 'k': 2,\n",
       " 'columns': Index(['serious_about_astrology', 'serious_about_religion', 'education_code',\n",
       "        'drinks_code'],\n",
       "       dtype='object'),\n",
       " 'i': 2}"
      ]
     },
     "execution_count": 144,
     "metadata": {},
     "output_type": "execute_result"
    }
   ],
   "source": [
    "largest"
   ]
  },
  {
   "cell_type": "code",
   "execution_count": 148,
   "metadata": {},
   "outputs": [
    {
     "data": {
      "image/png": "[encoded data removed]",
      "text/plain": [
       "<Figure size 720x576 with 2 Axes>"
      ]
     },
     "metadata": {
      "needs_background": "light"
     },
     "output_type": "display_data"
    }
   ],
   "source": [
    "cm = metrics.confusion_matrix(largest['y_test_data'], largest['predictions_data'])\n",
    "#print(cm)\n",
    "plt.figure(figsize=(10,8))\n",
    "sns.heatmap(cm, annot=True, fmt=\".3f\", linewidths=.5, square = True, cmap = 'Blues_r');\n",
    "plt.ylabel('Actual label');\n",
    "plt.xlabel('Predicted label');\n",
    "all_sample_title = 'Optimum Four or Five Features to Predict\\n More than Average Length of Words:\\n {0} \\n'.format(\", \".join(largest['columns'])) \\\n",
    "+ 'Accuracy: {0} \\n'.format(largest['accuracy']) \\\n",
    "+ 'Recall: {0} \\n'.format(largest['recall']) \\\n",
    "+ 'Precision: {0} \\n'.format(largest['precision']) \\\n",
    "+ 'F1 Score: {0}'.format(largest['f1score'])\n",
    "plt.title(all_sample_title, size = 15);"
   ]
  },
  {
   "cell_type": "code",
   "execution_count": 146,
   "metadata": {},
   "outputs": [
    {
     "data": {
      "image/png": "[encoded data removed]",
      "text/plain": [
       "<Figure size 720x576 with 1 Axes>"
      ]
     },
     "metadata": {
      "needs_background": "light"
     },
     "output_type": "display_data"
    }
   ],
   "source": [
    "plt.figure(figsize=(10,8))\n",
    "plt.plot(range(len(scores)),scores)\n",
    "plt.plot(range(len(recall_list)),recall_list)\n",
    "plt.plot(range(len(precision_list)),precision_list)\n",
    "plt.plot(range(len(f1score_list)),f1score_list)\n",
    "plt.legend(['accuracy','recall','precision','f1score'])\n",
    "plt.xlabel('Iteration')\n",
    "plt.ylabel('Percentage Correct')\n",
    "plt.title('KNN Accuracy, Recall, Precision, F1 Score for Each Variation/Attempt')\n",
    "plt.show()\n"
   ]
  },
  {
   "cell_type": "code",
   "execution_count": 147,
   "metadata": {
    "scrolled": true
   },
   "outputs": [
    {
     "data": {
      "image/png": "[encoded data removed]",
      "text/plain": [
       "<Figure size 720x576 with 1 Axes>"
      ]
     },
     "metadata": {
      "needs_background": "light"
     },
     "output_type": "display_data"
    }
   ],
   "source": [
    "plt.figure(figsize=(10,8))\n",
    "plt.scatter(k_list,scores)\n",
    "plt.scatter(k_list,recall_list)\n",
    "plt.scatter(k_list,precision_list)\n",
    "plt.scatter(k_list,f1score_list)\n",
    "plt.legend(['accuracy','recall','precision','f1score'])\n",
    "plt.xlabel('K')\n",
    "plt.ylabel('Score')\n",
    "plt.title('KNN Score vs. K')\n",
    "plt.show()"
   ]
  },
  {
   "cell_type": "markdown",
   "metadata": {},
   "source": [
    "#### SVM - didn't work. from research it could be that the data set is too large for svm"
   ]
  },
  {
   "cell_type": "code",
   "execution_count": null,
   "metadata": {},
   "outputs": [],
   "source": [
    "largest = {'value':0, 'gamma':1, 'C':1}\n",
    "for gamma in range(1,2):\n",
    "    for C in range(1,2):\n",
    "        feature_data = feature_data\n",
    "        target_data = finaldf[['uses_longer_than_average_words']]\n",
    "        \n",
    "        # Scale the feature data so it has mean = 0 and standard deviation = 1\n",
    "        # define standard scaler\n",
    "        #scaler = StandardScaler()\n",
    "        # transform data\n",
    "        #scaled_features = scaler.fit_transform(features)\n",
    "        \n",
    "        # Perform train, test, split\n",
    "        x_train, x_test, y_train, y_test = train_test_split(feature_data, \n",
    "                                                            target_data, \n",
    "                                                            test_size=0.2, \n",
    "                                                            random_state=200)\n",
    "        \n",
    "        classifier = SVC(kernel = \"rbf\",gamma=gamma,C=C,probability=True)\n",
    "        classifier.fit(x_train, np.ravel(y_train,order='C')) #see https://stackoverflow.com/questions/34165731/a-column-vector-y-was-passed-when-a-1d-array-was-expected\n",
    "        score = classifier.score(x_test, y_test)\n",
    "\n",
    "        if (score > largest['value']):\n",
    "            largest['value'] = score\n",
    "            largest['gamma'] = gamma\n",
    "            largest['C'] = C\n",
    "        #print(gamma, C)\n",
    "    print(\"one gamma, one C try\")\n",
    "print(largest)\n",
    "\n",
    "feature_data = feature_data\n",
    "target_data = finaldf[['uses_longer_than_average_words']]\n",
    "\n",
    "# Scale the feature data so it has mean = 0 and standard deviation = 1\n",
    "# define standard scaler\n",
    "#scaler = StandardScaler()\n",
    "# transform data\n",
    "#scaled_features = scaler.fit_transform(features)\n",
    "\n",
    "# Perform train, test, split\n",
    "x_train, x_test, y_train, y_test = train_test_split(feature_data, \n",
    "                                                    survival, \n",
    "                                                    test_size=0.2, \n",
    "                                                    random_state=200)\n",
    "\n",
    "\n",
    "classifier = SVC(kernel = \"rbf\",gamma=largest['gamma'],C=largest['C'], probability=True)\n",
    "classifier.fit(x_train, np.ravel(y_train,order='C'))\n",
    "score = classifier.score(x_test, y_test)\n",
    "print(score)"
   ]
  },
  {
   "cell_type": "code",
   "execution_count": null,
   "metadata": {},
   "outputs": [],
   "source": [
    "# Perform train, test, split\n",
    "x_train, x_test, y_train, y_test = train_test_split(feature_data, \n",
    "                                                    finaldf[['uses_longer_than_average_words']], \n",
    "                                                    test_size=0.2, \n",
    "                                                    random_state=1)\n",
    "\n",
    "\n",
    "classifier = SVC(kernel = \"rbf\",gamma=4,C=3, probability=True)\n",
    "classifier.fit(x_train, np.ravel(y_train,order='C'))\n",
    "score = classifier.score(x_test, y_test)\n",
    "print(score)"
   ]
  },
  {
   "cell_type": "code",
   "execution_count": null,
   "metadata": {},
   "outputs": [],
   "source": [
    "predictions = classifier.predict(x_test)\n",
    "\n",
    "#score mentioned above is \"accuracy score\"\n",
    "print(\"Accuracy Score is:\", accuracy_score(y_test, predictions))\n",
    "\n",
    "print(\"Recall Score is:\", recall_score(y_test, predictions))\n",
    "\n",
    "print(\"Precision Score is:\", precision_score(y_test, predictions))\n",
    "\n",
    "print(\"f1 Score is:\", f1_score(y_test, predictions))"
   ]
  },
  {
   "cell_type": "code",
   "execution_count": null,
   "metadata": {},
   "outputs": [],
   "source": [
    "cm = metrics.confusion_matrix(y_test, predictions)\n",
    "\n",
    "plt.figure(figsize=(9,9))\n",
    "sns.heatmap(cm, annot=True, fmt=\".3f\", linewidths=.5, square = True, cmap = 'Blues_r');\n",
    "plt.ylabel('Actual label');\n",
    "plt.xlabel('Predicted label');\n",
    "all_sample_title = 'Accuracy Score: {0}'.format(score)\n",
    "plt.title(all_sample_title, size = 15);"
   ]
  },
  {
   "cell_type": "markdown",
   "metadata": {},
   "source": [
    "### Use Regression Techniques\n",
    "\n",
    "\n",
    "We have learned how to perform Multiple Linear Regression by playing with StreetEasy apartment data. Is there a way we can apply the techniques we learned to this dataset?\n",
    "\n",
    "\n",
    "Some questions we used regression to tackle were:\n",
    "\n",
    "\n",
    "- Predict income with length of essays and average word length?\n",
    "- Predict age with the frequency of \"I\" or \"me\" in essays?\n",
    "\n",
    "\n",
    "We also learned about K-Nearest Neighbors Regression. Which form of regression works better to answer your question?"
   ]
  },
  {
   "cell_type": "markdown",
   "metadata": {},
   "source": [
    "#### Multiple Linear Regression\n",
    "- the ultimate solution is that linear regression is not a good solution for classification problems. logistic regression or knn are the paths to take."
   ]
  },
  {
   "cell_type": "code",
   "execution_count": 99,
   "metadata": {},
   "outputs": [
    {
     "data": {
      "text/plain": [
       "LinearRegression()"
      ]
     },
     "execution_count": 99,
     "metadata": {},
     "output_type": "execute_result"
    }
   ],
   "source": [
    "x_train, x_test, y_train, y_test = train_test_split(feature_data, finaldf[['uses_longer_than_average_words']], train_size = 0.8, test_size = 0.2, random_state=1)\n",
    "\n",
    "model = LinearRegression()\n",
    "\n",
    "model.fit(x_train, y_train)"
   ]
  },
  {
   "cell_type": "markdown",
   "metadata": {},
   "source": [
    "The first way will be by using the `.score()` method, which provides the R^2 value for our model. Remember, R^2 is the coefficient of determination, or a measure of how much of the variance in our dependent variable, the predicted Yelp rating, is explained by our independent variables, our feature data. R^2 values range from `0` to `1`, with `0` indicating that the created model does not fit our data at all, and with `1` indicating the model perfectly fits our feature data. Call `.score()` on our model with `X_train` and `y_train` as parameters to calculate our training R^2 score. Then call `.score()` again on model with `X_test` and `y_test` as parameters to calculate R^2 for our testing data. What do these R^2 values say about our model? Do you think these features alone are able to effectively predict Yelp ratings?"
   ]
  },
  {
   "cell_type": "code",
   "execution_count": 100,
   "metadata": {},
   "outputs": [
    {
     "data": {
      "text/plain": [
       "0.006165279923250777"
      ]
     },
     "execution_count": 100,
     "metadata": {},
     "output_type": "execute_result"
    }
   ],
   "source": [
    "#R2 Score\n",
    "model.score(x_train, y_train)"
   ]
  },
  {
   "cell_type": "code",
   "execution_count": 101,
   "metadata": {},
   "outputs": [
    {
     "data": {
      "text/plain": [
       "0.005658639340759608"
      ]
     },
     "execution_count": 101,
     "metadata": {},
     "output_type": "execute_result"
    }
   ],
   "source": [
    "model.score(x_test, y_test)"
   ]
  },
  {
   "cell_type": "markdown",
   "metadata": {},
   "source": [
    "The scores are very close to 0, which means that they are very unreliable. That information alone will not be able to effectively predict the Yelp ratings."
   ]
  },
  {
   "cell_type": "markdown",
   "metadata": {},
   "source": [
    "#### Logistic Regression\n",
    "- logistic regression over linear regression is meant for predicting categorical variables or binary variables while linear regression can predict continuous numbers. my problem of predicting whether a user leverages longer than average words (False - 0, or True - 1) is binary."
   ]
  },
  {
   "cell_type": "code",
   "execution_count": 149,
   "metadata": {},
   "outputs": [
    {
     "name": "stderr",
     "output_type": "stream",
     "text": [
      "C:\\Users\\rmart\\anaconda3\\lib\\site-packages\\sklearn\\metrics\\_classification.py:1221: UndefinedMetricWarning: Precision is ill-defined and being set to 0.0 due to no predicted samples. Use `zero_division` parameter to control this behavior.\n",
      "  _warn_prf(average, modifier, msg_start, len(result))\n",
      "C:\\Users\\rmart\\anaconda3\\lib\\site-packages\\sklearn\\metrics\\_classification.py:1221: UndefinedMetricWarning: Precision is ill-defined and being set to 0.0 due to no predicted samples. Use `zero_division` parameter to control this behavior.\n",
      "  _warn_prf(average, modifier, msg_start, len(result))\n",
      "C:\\Users\\rmart\\anaconda3\\lib\\site-packages\\sklearn\\metrics\\_classification.py:1221: UndefinedMetricWarning: Precision is ill-defined and being set to 0.0 due to no predicted samples. Use `zero_division` parameter to control this behavior.\n",
      "  _warn_prf(average, modifier, msg_start, len(result))\n",
      "C:\\Users\\rmart\\anaconda3\\lib\\site-packages\\sklearn\\metrics\\_classification.py:1221: UndefinedMetricWarning: Precision is ill-defined and being set to 0.0 due to no predicted samples. Use `zero_division` parameter to control this behavior.\n",
      "  _warn_prf(average, modifier, msg_start, len(result))\n",
      "C:\\Users\\rmart\\anaconda3\\lib\\site-packages\\sklearn\\metrics\\_classification.py:1221: UndefinedMetricWarning: Precision is ill-defined and being set to 0.0 due to no predicted samples. Use `zero_division` parameter to control this behavior.\n",
      "  _warn_prf(average, modifier, msg_start, len(result))\n",
      "C:\\Users\\rmart\\anaconda3\\lib\\site-packages\\sklearn\\metrics\\_classification.py:1221: UndefinedMetricWarning: Precision is ill-defined and being set to 0.0 due to no predicted samples. Use `zero_division` parameter to control this behavior.\n",
      "  _warn_prf(average, modifier, msg_start, len(result))\n",
      "C:\\Users\\rmart\\anaconda3\\lib\\site-packages\\sklearn\\metrics\\_classification.py:1221: UndefinedMetricWarning: Precision is ill-defined and being set to 0.0 due to no predicted samples. Use `zero_division` parameter to control this behavior.\n",
      "  _warn_prf(average, modifier, msg_start, len(result))\n"
     ]
    }
   ],
   "source": [
    "largest = {'accuracy':0, 'recall':0, 'precision':0, 'f1score':0, 'predictions_data':0, 'y_test_data':0, 'columns':'columns', 'i':1, 'modelcoef_to_col':0}\n",
    "scores=[]\n",
    "columns=[]\n",
    "#k_list = []\n",
    "number_list=[]\n",
    "recall_list=[]\n",
    "precision_list=[]\n",
    "f1score_list=[]\n",
    "predictions_list=[]\n",
    "y_test_data=[]\n",
    "model_coef=[]\n",
    "#for k in range(1,10):\n",
    "for i in range(1,20):\n",
    "    for number in range(4,5):\n",
    "            \n",
    "        data = feature_data\n",
    "        data = data.sample(n=number,axis='columns')\n",
    "        labels = finaldf[['uses_longer_than_average_words']]\n",
    "        #scaled_data = scale(data, axis=0)\n",
    "        #x_train, x_test, y_train, y_test\n",
    "        train_data, test_data, train_labels, test_labels = train_test_split(data, \n",
    "                                                                    labels, \n",
    "                                                                    test_size = 0.2, \n",
    "                                                                    random_state = 1)\n",
    "        #y_test_data.append(test_labels)\n",
    "        model = LogisticRegression(max_iter=6000)\n",
    "        model.fit(train_data, np.ravel(train_labels, order='C'))\n",
    "        coefarray = model.coef_\n",
    "        model_coef = list(zip(test_data.columns, np.transpose(model.coef_.tolist()[0])))\n",
    "        score = model.score(test_data, test_labels)\n",
    "        scores.append(score)\n",
    "        #add in functionality for precision, etc by first adding a list at the top and adding to dictionary then adding additions to the conditional statement below\n",
    "        predictions = model.predict(test_data)\n",
    "        #predictions_list.append(predictions)\n",
    "        #score mentioned above is \"accuracy score\"\n",
    "        recall = recall_score(test_labels,predictions)\n",
    "        recall_list.append(recall_score(test_labels, predictions))\n",
    "        precision = precision_score(test_labels,predictions)\n",
    "        precision_list.append(precision_score(test_labels, predictions))\n",
    "        f1score = f1_score(test_labels, predictions)\n",
    "        f1score_list.append(f1_score(test_labels, predictions))\n",
    "            \n",
    "        columns.append([colname for colname in data.columns])\n",
    "        #k_list.append(k)\n",
    "        number_list.append(number)\n",
    "\n",
    "        if (score > largest['accuracy']):\n",
    "            largest['accuracy'] = score\n",
    "            largest['recall'] = recall\n",
    "            largest['precision'] = precision\n",
    "            largest['f1score'] = f1score\n",
    "            largest['predictions_data'] = predictions\n",
    "            largest['y_test_data'] = test_labels\n",
    "            #largest['k'] = k\n",
    "            largest['columns'] = data.columns\n",
    "            largest['i'] = i\n",
    "            largest['modelcoef_to_col'] = model_coef"
   ]
  },
  {
   "cell_type": "code",
   "execution_count": 150,
   "metadata": {},
   "outputs": [
    {
     "data": {
      "text/plain": [
       "{'accuracy': 0.6163469557964971,\n",
       " 'recall': 0.011060507482108002,\n",
       " 'precision': 0.5604395604395604,\n",
       " 'f1score': 0.021692896639727774,\n",
       " 'predictions_data': array([0, 0, 0, ..., 0, 0, 0]),\n",
       " 'y_test_data':        uses_longer_than_average_words\n",
       " 16912                               0\n",
       " 13297                               0\n",
       " 2604                                0\n",
       " 39269                               0\n",
       " 12225                               0\n",
       " ...                               ...\n",
       " 55349                               1\n",
       " 12471                               1\n",
       " 27690                               1\n",
       " 44786                               0\n",
       " 14455                               0\n",
       " \n",
       " [11990 rows x 1 columns],\n",
       " 'columns': Index(['signs_code', 'serious_about_religion', 'diet_code', 'drinks_code'], dtype='object'),\n",
       " 'i': 3,\n",
       " 'modelcoef_to_col': [('signs_code', -0.1580555731766103),\n",
       "  ('serious_about_religion', -0.3095834303531485),\n",
       "  ('diet_code', 0.6847453372814009),\n",
       "  ('drinks_code', 0.31712000444500693)]}"
      ]
     },
     "execution_count": 150,
     "metadata": {},
     "output_type": "execute_result"
    }
   ],
   "source": [
    "largest"
   ]
  },
  {
   "cell_type": "markdown",
   "metadata": {},
   "source": [
    "**Coefficients only work for regression and not for knn and other classification algs**"
   ]
  },
  {
   "cell_type": "code",
   "execution_count": 151,
   "metadata": {},
   "outputs": [
    {
     "data": {
      "text/plain": [
       "[('signs_code', -0.1580555731766103),\n",
       " ('serious_about_religion', -0.3095834303531485),\n",
       " ('diet_code', 0.6847453372814009),\n",
       " ('drinks_code', 0.31712000444500693)]"
      ]
     },
     "execution_count": 151,
     "metadata": {},
     "output_type": "execute_result"
    }
   ],
   "source": [
    "largest['modelcoef_to_col']"
   ]
  },
  {
   "cell_type": "code",
   "execution_count": 152,
   "metadata": {},
   "outputs": [
    {
     "data": {
      "image/png": "[encoded data removed]",
      "text/plain": [
       "<Figure size 720x576 with 2 Axes>"
      ]
     },
     "metadata": {
      "needs_background": "light"
     },
     "output_type": "display_data"
    }
   ],
   "source": [
    "cm = metrics.confusion_matrix(largest['y_test_data'], largest['predictions_data'])\n",
    "#print(cm)\n",
    "plt.figure(figsize=(10,8))\n",
    "sns.heatmap(cm, annot=True, fmt=\".3f\", linewidths=.5, square = True, cmap = 'Blues_r');\n",
    "plt.ylabel('Actual label');\n",
    "plt.xlabel('Predicted label');\n",
    "all_sample_title = 'Optimum Four or Five Features to Predict\\n More than Average Length of Words:\\n {0} \\n'.format(\", \".join(largest['columns'])) \\\n",
    "+ 'Accuracy: {0} \\n'.format(largest['accuracy']) \\\n",
    "+ 'Recall: {0} \\n'.format(largest['recall']) \\\n",
    "+ 'Precision: {0} \\n'.format(largest['precision']) \\\n",
    "+ 'F1 Score: {0}'.format(largest['f1score'])\n",
    "plt.title(all_sample_title, size = 15);"
   ]
  },
  {
   "cell_type": "markdown",
   "metadata": {},
   "source": [
    "Shows comparable accuracy to the knn however the recall and f1 scores are super low. precision is high at times. when we view the confusion matrix for the data with the highest accuracy we see that the model only predicted 51 people accurately as true they use longer than average words. This is very low when compared to the KNN."
   ]
  },
  {
   "cell_type": "code",
   "execution_count": 153,
   "metadata": {},
   "outputs": [
    {
     "data": {
      "image/png": "[encoded data removed]",
      "text/plain": [
       "<Figure size 720x576 with 1 Axes>"
      ]
     },
     "metadata": {
      "needs_background": "light"
     },
     "output_type": "display_data"
    }
   ],
   "source": [
    "plt.figure(figsize=(10,8))\n",
    "plt.plot(range(len(scores)),scores)\n",
    "plt.plot(range(len(recall_list)),recall_list)\n",
    "plt.plot(range(len(precision_list)),precision_list)\n",
    "plt.plot(range(len(f1score_list)),f1score_list)\n",
    "plt.legend(['accuracy','recall','precision','f1score'])\n",
    "plt.xlabel('Iteration')\n",
    "plt.ylabel('Percentage Correct')\n",
    "plt.title('Logistic Regression Accuracy, Recall, Precision, F1 Score \\n for Each Variation/Attempt')\n",
    "plt.show()"
   ]
  },
  {
   "cell_type": "markdown",
   "metadata": {},
   "source": [
    "### Analyze the Accuracy, Precision and Recall\n",
    "\n",
    "\n",
    "After you have trained your model and run it, you will probably be curious about how well it did.\n",
    "\n",
    "\n",
    "Find the accuracy, precision, and recall of each model you used, and create graphs showing how they changed.\n",
    "\n",
    "\n",
    "For our question of classifying Zodiac signs, one graph we produced showed classification accuracy versus `k` (for K-Nearest Neighbors):\n",
    "![accuracy vs k](https://s3.amazonaws.com/codecademy-content/programs/machine-learning/capstone/Zodiac_Accuracy.png)\n",
    "\n",
    "\n",
    "The accuracy we would expect from predicting a Zodiac sign by randomly selecting one would be 1/12, or 0.0833. Our model did not significantly outperform this number. We were unimpressed."
   ]
  },
  {
   "cell_type": "code",
   "execution_count": null,
   "metadata": {},
   "outputs": [],
   "source": []
  },
  {
   "cell_type": "markdown",
   "metadata": {},
   "source": [
    "### Create your Presentation\n",
    "\n",
    "\n",
    "We want to see:\n",
    "\n",
    "\n",
    "- at least two graphs containing exploration of the dataset\n",
    "- a statement of your question (or questions!) and how you arrived there \n",
    "- the explanation of at least two new columns you created and how you did it\n",
    "- the comparison between two classification approaches, including a qualitative discussion of simplicity, time to run the model, and accuracy, precision, and/or recall\n",
    "- the comparison between two regression approaches, including a qualitative discussion of simplicity, time to run the model, and accuracy, precision, and/or recall\n",
    "- an overall conclusion, with a preliminary answer to your initial question(s), next steps, and what other data you would like to have in order to better answer your question(s)\n",
    "\n",
    "\n",
    "Good luck!"
   ]
  },
  {
   "cell_type": "code",
   "execution_count": null,
   "metadata": {},
   "outputs": [],
   "source": []
  }
 ],
 "metadata": {
  "kernelspec": {
   "display_name": "Python 3",
   "language": "python",
   "name": "python3"
  },
  "language_info": {
   "codemirror_mode": {
    "name": "ipython",
    "version": 3
   },
   "file_extension": ".py",
   "mimetype": "text/x-python",
   "name": "python",
   "nbconvert_exporter": "python",
   "pygments_lexer": "ipython3",
   "version": "3.8.3"
  }
 },
 "nbformat": 4,
 "nbformat_minor": 4
}
